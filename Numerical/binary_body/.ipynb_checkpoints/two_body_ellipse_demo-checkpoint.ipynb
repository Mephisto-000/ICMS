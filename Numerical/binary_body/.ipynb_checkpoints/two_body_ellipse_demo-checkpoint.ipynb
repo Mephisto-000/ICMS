{
 "cells": [
  {
   "cell_type": "markdown",
   "id": "2084b0ca-0a20-4292-9be0-fc7e7688594c",
   "metadata": {},
   "source": [
    "# Two-Body-Problem Elliptical Orbit Demo"
   ]
  },
  {
   "cell_type": "code",
   "execution_count": 1,
   "id": "46cae082-08f9-419f-a0fd-0266bac03a24",
   "metadata": {},
   "outputs": [],
   "source": [
    "import os\n",
    "import numpy as np\n",
    "import matplotlib.pyplot as plt"
   ]
  },
  {
   "cell_type": "code",
   "execution_count": null,
   "id": "4ed13db2-3640-4f40-bb40-a8eb1143e5ae",
   "metadata": {},
   "outputs": [],
   "source": []
  }
 ],
 "metadata": {
  "kernelspec": {
   "display_name": "Python 3 (ipykernel)",
   "language": "python",
   "name": "python3"
  },
  "language_info": {
   "codemirror_mode": {
    "name": "ipython",
    "version": 3
   },
   "file_extension": ".py",
   "mimetype": "text/x-python",
   "name": "python",
   "nbconvert_exporter": "python",
   "pygments_lexer": "ipython3",
   "version": "3.8.12"
  }
 },
 "nbformat": 4,
 "nbformat_minor": 5
}
