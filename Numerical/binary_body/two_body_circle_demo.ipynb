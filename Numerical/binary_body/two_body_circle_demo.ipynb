{
 "cells": [
  {
   "cell_type": "markdown",
   "id": "3a19c156-a197-4e87-a9b1-2a6c872e4738",
   "metadata": {},
   "source": [
    "# Two-Body-Problem Circle Orbit Demo"
   ]
  },
  {
   "cell_type": "code",
   "execution_count": 1,
   "id": "a366a733-9945-4019-a216-421839bcf0ae",
   "metadata": {},
   "outputs": [],
   "source": [
    "import numpy as np\n",
    "import matplotlib.pyplot as plt\n",
    "from numpy import linalg as la"
   ]
  },
  {
   "cell_type": "code",
   "execution_count": 2,
   "id": "5fb8bb81-3875-472e-bcd2-48c940e215f5",
   "metadata": {},
   "outputs": [],
   "source": [
    "class Star:\n",
    "    def __init__(self, name, init_pos, init_vel, mass):\n",
    "        self.name = name\n",
    "        self.p = init_pos\n",
    "        self.v = init_vel\n",
    "        self.m = mass"
   ]
  },
  {
   "cell_type": "code",
   "execution_count": 3,
   "id": "07c0c4a0-c5fd-42ae-93ce-efc98e059440",
   "metadata": {},
   "outputs": [],
   "source": [
    "def rk4(pos_0, vel_0, M_1, M_2, t_l, dt, G):\n",
    "    mu = G*(M_1 + M_2)\n",
    "    # mu = G*M_1\n",
    "    pos_list = [pos_0]\n",
    "    vel_list = [vel_0]\n",
    "\n",
    "    t_tmp = 0\n",
    "    while t_tmp <= t_l:\n",
    "        # r_3 = la.norm(pos_list[-1])**3\n",
    "\n",
    "        # k1 : \n",
    "        v1 = vel_list[-1] * dt\n",
    "        a1 = (-mu * pos_list[-1] / la.norm(pos_list[-1])**3) * dt\n",
    "        \n",
    "        # k2 : \n",
    "        v2 = (vel_list[-1] + 0.5*v1) * dt\n",
    "        a2 = (-mu * (pos_list[-1] + 0.5*v1) / la.norm(pos_list[-1] + 0.5*v1)**3) * dt\n",
    "\n",
    "        # k3 : \n",
    "        v3 = (vel_list[-1] + 0.5*v2) * dt\n",
    "        a3 = (-mu * (pos_list[-1] + 0.5*v2) / la.norm(pos_list[-1] + 0.5*v2)**3) * dt\n",
    "\n",
    "        # k4 : \n",
    "        v4 = (vel_list[-1] + v3) * dt\n",
    "        a4 = (-mu * (pos_list[-1] + v3) / la.norm(pos_list[-1] + v3)**3) * dt\n",
    "\n",
    "        \n",
    "        tmp_next_pos = pos_list[-1] + (v1 + 2*v2 + 2*v3 + v4) / 6\n",
    "        tmp_next_vel = vel_list[-1] + (a1 + 2*a2 + 2*a3 + a4) / 6\n",
    "\n",
    "        pos_list.append(tmp_next_pos)\n",
    "        vel_list.append(tmp_next_vel)\n",
    "\n",
    "        t_tmp += dt\n",
    "\n",
    "    return pos_list, vel_list"
   ]
  },
  {
   "cell_type": "code",
   "execution_count": 4,
   "id": "2d865aec-c24b-497e-99ca-b47d372417be",
   "metadata": {},
   "outputs": [],
   "source": [
    "# G = 6.67\n",
    "# M1_mass = 100\n",
    "# M2_mass = 2\n",
    "# R = 10\n",
    "\n",
    "G = 38.925  # AU^3 / (M_sun * yr^2)\n",
    "M1_mass = 1.0  # Sun\n",
    "M2_mass = 9.546e-4  # Jupiter\n",
    "R = 30.1"
   ]
  },
  {
   "cell_type": "code",
   "execution_count": 5,
   "id": "bf06b69d-abdb-4a6f-bad2-f1ab819da056",
   "metadata": {},
   "outputs": [],
   "source": [
    "M2_v_0 = np.sqrt(G*M1_mass / R)"
   ]
  },
  {
   "cell_type": "code",
   "execution_count": 6,
   "id": "65a485b0-c23e-44ea-a626-e2d6911024c1",
   "metadata": {},
   "outputs": [],
   "source": [
    "M_1 = Star(\"M1\", np.array([0.0, 0.0, 0.0]), np.array([0.0, 0.0, 0.0]), M1_mass)\n",
    "M_2 = Star(\"M2\", np.array([R, 0.0, 0.0]), np.array([0.0, M2_v_0, 0.0]), M2_mass)"
   ]
  },
  {
   "cell_type": "code",
   "execution_count": 7,
   "id": "bf3d7562-35b0-42bc-9497-9d1e2b90f03b",
   "metadata": {},
   "outputs": [],
   "source": [
    "r_vec = M_2.p - M_1.p\n",
    "v_vec = M_2.v - M_1.v"
   ]
  },
  {
   "cell_type": "code",
   "execution_count": 8,
   "id": "6e23adbd-e3d5-4f90-ad88-056577c07ed8",
   "metadata": {},
   "outputs": [],
   "source": [
    "# t_length = (5/2)*np.pi\n",
    "# dt = t_length / 1000\n",
    "\n",
    "t_length = 30 # year\n",
    "n_point = 300\n",
    "dt = t_length / n_point"
   ]
  },
  {
   "cell_type": "code",
   "execution_count": 9,
   "id": "ab71d546-3f37-43b2-b27c-3059228d6bf9",
   "metadata": {},
   "outputs": [],
   "source": [
    "\n",
    "test_pos, test_vel = rk4(r_vec, v_vec, M_1.m, M_2.m, n_point, dt, G)"
   ]
  },
  {
   "cell_type": "code",
   "execution_count": 10,
   "id": "e3715651-9404-4341-ad68-c179d9438060",
   "metadata": {},
   "outputs": [
    {
     "data": {
      "image/png": "[encoded data removed]",
      "text/plain": [
       "<Figure size 720x720 with 1 Axes>"
      ]
     },
     "metadata": {},
     "output_type": "display_data"
    }
   ],
   "source": [
    "plt.style.use('ggplot')\n",
    "fig = plt.figure(figsize=(10, 10))\n",
    "ax = fig.add_subplot()\n",
    "for i in test_pos:\n",
    "    ax.plot(i[0], i[1], \"ro\", markersize=0.5)\n",
    "\n",
    "plt.plot(0.0, 0.0, \"b.\", label=\"M1\", markersize=15)\n",
    "plt.axis(\"equal\")\n",
    "plt.legend()\n",
    "plt.show()"
   ]
  },
  {
   "cell_type": "code",
   "execution_count": null,
   "id": "7f6f9fb1-58e8-466e-a7c9-e9d0f934da4a",
   "metadata": {},
   "outputs": [],
   "source": []
  },
  {
   "cell_type": "code",
   "execution_count": null,
   "id": "d5b7ef55-765e-45c9-9083-940b0fb44761",
   "metadata": {},
   "outputs": [],
   "source": []
  }
 ],
 "metadata": {
  "kernelspec": {
   "display_name": "Python 3 (ipykernel)",
   "language": "python",
   "name": "python3"
  },
  "language_info": {
   "codemirror_mode": {
    "name": "ipython",
    "version": 3
   },
   "file_extension": ".py",
   "mimetype": "text/x-python",
   "name": "python",
   "nbconvert_exporter": "python",
   "pygments_lexer": "ipython3",
   "version": "3.8.12"
  }
 },
 "nbformat": 4,
 "nbformat_minor": 5
}
