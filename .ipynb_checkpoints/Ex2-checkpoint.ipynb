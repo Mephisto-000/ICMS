{
 "cells": [
  {
   "cell_type": "markdown",
   "id": "e4da4db8-e5f4-46d6-9ec5-4433527f5504",
   "metadata": {},
   "source": [
    "# Hw6"
   ]
  },
  {
   "cell_type": "code",
   "execution_count": 1,
   "id": "d3de7d3b-caf0-466f-9d7b-3f3a459c69fd",
   "metadata": {},
   "outputs": [],
   "source": [
    "import numpy as np\n",
    "import matplotlib.pyplot as plt\n",
    "\n",
    "np.random.seed(1)"
   ]
  },
  {
   "cell_type": "markdown",
   "id": "3c656270-c0c4-4295-837e-181f1c641f39",
   "metadata": {},
   "source": [
    "$y = 2 + x + 2x^{2} + \\varepsilon$, for $x$ in $(-1, 1)$"
   ]
  },
  {
   "cell_type": "code",
   "execution_count": 2,
   "id": "ec34f5f2-f2c5-43a1-a74f-480dbe5b04ca",
   "metadata": {},
   "outputs": [],
   "source": [
    "def f(x):\n",
    "    return 2 + x + 2*x**2"
   ]
  },
  {
   "cell_type": "code",
   "execution_count": 3,
   "id": "1cbd5b0a-a9d7-47a1-9f99-e5d3e6316e62",
   "metadata": {},
   "outputs": [],
   "source": [
    "x = np.linspace(-1, 1, 200)\n",
    "fun_data = np.array([f(i) for i in x])\n",
    "epsilon = np.random.normal(0, 0.1, 200)\n",
    "lam = np.linspace(0.01, 0.99, 20)\n",
    "y = fun_data + epsilon"
   ]
  },
  {
   "cell_type": "code",
   "execution_count": 4,
   "id": "043f8d3d-8706-4486-8041-3890b885f48f",
   "metadata": {},
   "outputs": [],
   "source": [
    "x_train = x[0:160].reshape(160, 1)\n",
    "y_train = y[0:160].reshape(160, 1)\n",
    "x_pre = x[160:].reshape(40, 1)\n",
    "y_pre = y[160:].reshape(40, 1)"
   ]
  },
  {
   "cell_type": "markdown",
   "id": "7cd46fbf-ddd9-4b73-b476-f411b6c8956a",
   "metadata": {},
   "source": [
    "## (a)"
   ]
  },
  {
   "cell_type": "code",
   "execution_count": 5,
   "id": "d77b3a8e-2661-4cbe-9e0c-9ffdaaae9fc3",
   "metadata": {},
   "outputs": [
    {
     "name": "stdout",
     "output_type": "stream",
     "text": [
      "H(Xtrain) = \n",
      " [[ 1.00000000e+00 -1.00000000e+00  1.00000000e+00 ...  1.00000000e+00\n",
      "  -1.00000000e+00  1.00000000e+00]\n",
      " [ 1.00000000e+00 -9.89949749e-01  9.80000505e-01 ...  6.15787953e-01\n",
      "  -6.09599129e-01  6.03472505e-01]\n",
      " [ 1.00000000e+00 -9.79899497e-01  9.60203025e-01 ...  3.77323347e-01\n",
      "  -3.69738958e-01  3.62307019e-01]\n",
      " ...\n",
      " [ 1.00000000e+00  5.77889447e-01  3.33956213e-01 ...  3.70295700e-12\n",
      "   2.13989978e-12  1.23662550e-12]\n",
      " [ 1.00000000e+00  5.87939698e-01  3.45673089e-01 ...  8.47176102e-12\n",
      "   4.98088462e-12  2.92845980e-12]\n",
      " [ 1.00000000e+00  5.97989950e-01  3.57591980e-01 ...  1.91120151e-11\n",
      "   1.14287929e-11  6.83430331e-12]]\n"
     ]
    }
   ],
   "source": [
    "H_xtrain = np.hstack([np.power(x_train, i) for i in range(0, 51)])\n",
    "H_xtest = np.hstack([np.power(x_pre, i) for i in range(0, 51)])\n",
    "print(\"H(Xtrain) = \\n\", H_xtrain)"
   ]
  },
  {
   "cell_type": "code",
   "execution_count": 6,
   "id": "6b5446a7-eefc-41ba-9acf-3109f500a646",
   "metadata": {},
   "outputs": [],
   "source": [
    "A_list = []\n",
    "for i in lam:\n",
    "    B = np.linalg.inv(np.dot(H_xtrain.T, H_xtrain) + i*np.identity(51))\n",
    "    A = np.dot(np.dot(B, H_xtrain.T), y_train)\n",
    "    A_list.append(A)\n",
    "\n",
    "# for i, j in enumerate(A_list):\n",
    "#     print(f\"{i} : \\n\", j)\n",
    "#     print(\"===========================================================\")"
   ]
  },
  {
   "cell_type": "code",
   "execution_count": 7,
   "id": "409be5c9-3031-46a2-b08d-17d74cb5154d",
   "metadata": {},
   "outputs": [],
   "source": [
    "f_xtest_list = []\n",
    "f_xtrain_list = []\n",
    "\n",
    "for i in A_list:\n",
    "    f_xtest = np.dot(H_xtest, i)\n",
    "    f_xtrain = np.dot(H_xtrain, i)\n",
    "    \n",
    "    f_xtest_list.append(f_xtest)\n",
    "    f_xtrain_list.append(f_xtrain)"
   ]
  },
  {
   "cell_type": "code",
   "execution_count": 8,
   "id": "9b9df304-14d0-4439-b48e-7526637d76a4",
   "metadata": {},
   "outputs": [
    {
     "name": "stdout",
     "output_type": "stream",
     "text": [
      "train error : \n",
      " [1.1159684  1.12923749 1.13804143 1.14702186 1.15692901 1.1678332\n",
      " 1.17965228 1.19227089 1.2055735  1.21945401 1.2338181  1.24858306\n",
      " 1.26367686 1.27903697 1.29460921 1.31034671 1.32620896 1.34216099\n",
      " 1.35817263 1.3742179 ]\n"
     ]
    }
   ],
   "source": [
    "train_error_list = []\n",
    "\n",
    "for i in f_xtrain_list:\n",
    "    error_train = np.sqrt(np.dot((i - y_train).T, (i - y_train)))\n",
    "    train_error_list.append(error_train)\n",
    "\n",
    "train_error_list = [i[0][0] for i in train_error_list]\n",
    "train_error_array = np.array(train_error_list)\n",
    "print(\"train error : \\n\", train_error_array)"
   ]
  },
  {
   "cell_type": "code",
   "execution_count": 9,
   "id": "6c98f887-f347-46ae-bb96-5cd58702d7df",
   "metadata": {},
   "outputs": [
    {
     "name": "stdout",
     "output_type": "stream",
     "text": [
      "test error : \n",
      " [2.0620213  0.80785335 1.0351899  1.04300403 0.98520526 0.91206222\n",
      " 0.84510575 0.79581365 0.77053217 0.77147253 0.7971418  0.84351993\n",
      " 0.90568964 0.97907916 1.0600054  1.14572336 1.23426863 1.32426296\n",
      " 1.41474802 1.50506055]\n"
     ]
    }
   ],
   "source": [
    "test_error_list = []\n",
    "\n",
    "for i in f_xtest_list:\n",
    "    error_test = np.sqrt(np.dot((i - y_pre).T, (i - y_pre)))\n",
    "    test_error_list.append(error_test)\n",
    "\n",
    "test_error_list = [i[0][0] for i in test_error_list]\n",
    "test_error_array = np.array(test_error_list)\n",
    "print(\"test error : \\n\", test_error_array)"
   ]
  },
  {
   "cell_type": "code",
   "execution_count": 10,
   "id": "b00a5994-2cc3-4aef-9657-f8336099b890",
   "metadata": {},
   "outputs": [
    {
     "data": {
      "image/png": "[encoded data removed]",
      "text/plain": [
       "<Figure size 864x576 with 1 Axes>"
      ]
     },
     "metadata": {
      "needs_background": "light"
     },
     "output_type": "display_data"
    }
   ],
   "source": [
    "plt.figure(figsize=(12, 8))\n",
    "plt.plot(lam, train_error_array, 'b-')\n",
    "plt.plot(lam, test_error_array, 'r-')\n",
    "plt.xlabel(\"x\")\n",
    "plt.ylabel(\"y\")\n",
    "plt.grid()\n",
    "plt.title(\"Degree 2\")\n",
    "plt.show()"
   ]
  },
  {
   "cell_type": "code",
   "execution_count": null,
   "id": "6020b71f-7d30-4d93-bd4a-aba731fcf36e",
   "metadata": {},
   "outputs": [],
   "source": []
  }
 ],
 "metadata": {
  "kernelspec": {
   "display_name": "Python 3 (ipykernel)",
   "language": "python",
   "name": "python3"
  },
  "language_info": {
   "codemirror_mode": {
    "name": "ipython",
    "version": 3
   },
   "file_extension": ".py",
   "mimetype": "text/x-python",
   "name": "python",
   "nbconvert_exporter": "python",
   "pygments_lexer": "ipython3",
   "version": "3.8.11"
  }
 },
 "nbformat": 4,
 "nbformat_minor": 5
}
