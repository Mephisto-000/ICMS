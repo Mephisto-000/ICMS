{
 "cells": [
  {
   "cell_type": "markdown",
   "id": "17111226-aa50-4373-9191-76c68bbb1d95",
   "metadata": {},
   "source": [
    "# 11/3"
   ]
  },
  {
   "cell_type": "code",
   "execution_count": 1,
   "id": "395dae72-e262-442f-8eb9-121adcae728f",
   "metadata": {},
   "outputs": [],
   "source": [
    "import tensorflow as tf\n",
    "import numpy as np\n",
    "import matplotlib.pyplot as plt"
   ]
  },
  {
   "cell_type": "markdown",
   "id": "b158bbf3-e932-48ac-b1f1-989e66aba82f",
   "metadata": {},
   "source": [
    "## A Tiny Toy Network"
   ]
  },
  {
   "cell_type": "markdown",
   "id": "a07c132a-2f67-44f4-ba53-59a246c2bcde",
   "metadata": {},
   "source": [
    "### One-Layer Cos Function(l) + ReLU function"
   ]
  },
  {
   "cell_type": "code",
   "execution_count": 2,
   "id": "1b13ca0a-0a0d-43e7-b67b-5e4f4a192201",
   "metadata": {},
   "outputs": [],
   "source": [
    "x_train = np.array([[0.0, 0.0, 1.0], \n",
    "                    [1.0, 1.0, 1.0], \n",
    "                    [1.0, 0.0, 1.0], \n",
    "                    [0.0, 1.0, 1.0]], dtype=\"float32\")\n",
    "\n",
    "y_train = np.array([[0.0, 1.0, 1.0, 0.0]], dtype=\"float32\").T"
   ]
  },
  {
   "cell_type": "code",
   "execution_count": 3,
   "id": "1788e0e5-5f1f-40c1-81e9-2253119acbfd",
   "metadata": {},
   "outputs": [
    {
     "name": "stdout",
     "output_type": "stream",
     "text": [
      "x_train : \n",
      " tf.Tensor(\n",
      "[[0. 0. 1.]\n",
      " [1. 1. 1.]\n",
      " [1. 0. 1.]\n",
      " [0. 1. 1.]], shape=(4, 3), dtype=float32)\n",
      "\n",
      "\n",
      "y_train :  tf.Tensor(\n",
      "[[0.]\n",
      " [1.]\n",
      " [1.]\n",
      " [0.]], shape=(4, 1), dtype=float32)\n",
      "\n",
      "\n"
     ]
    }
   ],
   "source": [
    "x_t = tf.convert_to_tensor(x_train)\n",
    "y_t = tf.convert_to_tensor(y_train)\n",
    "print(\"x_train : \\n\", x_t)\n",
    "print(\"\\n\")\n",
    "print(\"y_train : \", y_t)\n",
    "print(\"\\n\")"
   ]
  },
  {
   "cell_type": "code",
   "execution_count": 4,
   "id": "d6e75b6a-290c-46ce-baa6-74f7be7b0f9c",
   "metadata": {},
   "outputs": [],
   "source": [
    "W1 = tf.Variable(initial_value=tf.random.normal([3, 1], stddev=0.03), name=\"W1\", dtype=tf.float32)\n",
    "b1 = tf.Variable(initial_value=tf.random.normal([1]), name=\"b1\", dtype=tf.float32)"
   ]
  },
  {
   "cell_type": "code",
   "execution_count": 5,
   "id": "5199892d-ef22-4765-9289-c8394235f101",
   "metadata": {},
   "outputs": [
    {
     "name": "stdout",
     "output_type": "stream",
     "text": [
      "weight : \n",
      " <tf.Variable 'W1:0' shape=(3, 1) dtype=float32, numpy=\n",
      "array([[ 0.08926897],\n",
      "       [-0.01771333],\n",
      "       [ 0.03064514]], dtype=float32)>\n",
      "\n",
      "\n",
      "bias :  <tf.Variable 'b1:0' shape=(1,) dtype=float32, numpy=array([0.24189162], dtype=float32)>\n",
      "\n",
      "\n"
     ]
    }
   ],
   "source": [
    "print(\"weight : \\n\", W1)\n",
    "print(\"\\n\")\n",
    "print(\"bias : \", b1)\n",
    "print(\"\\n\")"
   ]
  },
  {
   "cell_type": "code",
   "execution_count": 6,
   "id": "4ed83bc8-10a2-498d-9485-60821c7d447c",
   "metadata": {},
   "outputs": [],
   "source": [
    "@tf.function\n",
    "def pre_out_func(x, w, b):\n",
    "    return tf.nn.relu(tf.add(tf.matmul(x, w), b))"
   ]
  },
  {
   "cell_type": "code",
   "execution_count": 7,
   "id": "1d0ea6d1-8f94-4378-be05-b685f5dec834",
   "metadata": {},
   "outputs": [
    {
     "data": {
      "text/plain": [
       "<tf.Tensor: shape=(4, 1), dtype=float32, numpy=\n",
       "array([[0.27253675],\n",
       "       [0.3440924 ],\n",
       "       [0.36180574],\n",
       "       [0.25482345]], dtype=float32)>"
      ]
     },
     "execution_count": 7,
     "metadata": {},
     "output_type": "execute_result"
    }
   ],
   "source": [
    "# 函式 pre_out_func(x, w, b) 測試 : \n",
    "test = pre_out_func(x_t, W1, b1)\n",
    "test"
   ]
  },
  {
   "cell_type": "code",
   "execution_count": 8,
   "id": "ee827320-f69c-4cbc-a01f-3c58beabb79c",
   "metadata": {},
   "outputs": [],
   "source": [
    "@tf.function\n",
    "def cost(x, y, w, b):\n",
    "    err = pre_out_func(x, w, b) - y\n",
    "    sq_err = tf.square(err)\n",
    "    return tf.reduce_mean(sq_err)\n",
    "\n",
    "@tf.function\n",
    "def grad(x, y, w, b):\n",
    "    with tf.GradientTape() as tape:\n",
    "        loss_ = cost(x, y, w, b)\n",
    "    return [tape.gradient(loss_, [w, b]), loss_]"
   ]
  },
  {
   "cell_type": "code",
   "execution_count": 9,
   "id": "92aab6d6-da24-47e3-adb6-f9720e493b50",
   "metadata": {},
   "outputs": [],
   "source": [
    "# lr_rate = 0.01\n",
    "# delta_W, delta_b = grad(x_t, y_t, W1, b1)\n",
    "# ch_W, ch_b = delta_W * lr_rate, delta_b * lr_rate\n",
    "\n",
    "# W1.assign_sub(ch_W)\n",
    "# b1.assign_sub(ch_b)\n",
    "# print(W1)\n",
    "# print(\"\\n\")\n",
    "# print(b1)"
   ]
  },
  {
   "cell_type": "code",
   "execution_count": 10,
   "id": "22c4a425-52cc-4ebe-a7f3-ba187d212824",
   "metadata": {},
   "outputs": [],
   "source": [
    "lr_rate = 0.01\n",
    "epochs = 500\n",
    "loss_list = []\n",
    "for k in range(epochs):\n",
    "    loss_tmp = grad(x_t, y_t, W1, b1)[1]\n",
    "    delta_W, delta_b = grad(x_t, y_t, W1, b1)[0]\n",
    "    ch_W, ch_b = delta_W * lr_rate, delta_b * lr_rate\n",
    "    W1.assign_sub(ch_W)\n",
    "    b1.assign_sub(ch_b)\n",
    "    loss_list.append(loss_tmp)"
   ]
  },
  {
   "cell_type": "code",
   "execution_count": 11,
   "id": "204fe993-2f4a-4865-9595-cd57c87c823f",
   "metadata": {},
   "outputs": [
    {
     "name": "stdout",
     "output_type": "stream",
     "text": [
      "weight : \n",
      " <tf.Variable 'W1:0' shape=(3, 1) dtype=float32, numpy=\n",
      "array([[ 0.90549535],\n",
      "       [-0.02165955],\n",
      "       [-0.07343143]], dtype=float32)>\n",
      "\n",
      "\n",
      "bias :  <tf.Variable 'b1:0' shape=(1,) dtype=float32, numpy=array([0.13781522], dtype=float32)>\n",
      "\n",
      "\n"
     ]
    }
   ],
   "source": [
    "print(\"weight : \\n\", W1)\n",
    "print(\"\\n\")\n",
    "print(\"bias : \", b1)\n",
    "print(\"\\n\")"
   ]
  },
  {
   "cell_type": "code",
   "execution_count": 12,
   "id": "506d131d-529d-45a8-bcf9-5bb6465c9b29",
   "metadata": {
    "tags": []
   },
   "outputs": [
    {
     "data": {
      "image/png": "[encoded data removed]",
      "text/plain": [
       "<Figure size 720x432 with 1 Axes>"
      ]
     },
     "metadata": {},
     "output_type": "display_data"
    }
   ],
   "source": [
    "epochs = np.linspace(1, epochs, epochs)\n",
    "plt.style.use('ggplot')\n",
    "plt.figure(figsize=(10, 6))\n",
    "plt.plot(epochs, loss_list)\n",
    "plt.title(\"Loss\", fontsize=20)\n",
    "plt.xlabel(\"epoch\", fontsize=15)\n",
    "plt.ylabel(\"RMSE\", fontsize=15)\n",
    "plt.show()"
   ]
  },
  {
   "cell_type": "code",
   "execution_count": 13,
   "id": "c3a053c6-809a-4791-8693-246a92783528",
   "metadata": {},
   "outputs": [
    {
     "name": "stdout",
     "output_type": "stream",
     "text": [
      "y predict :  tf.Tensor([[0.9482196]], shape=(1, 1), dtype=float32)\n",
      "error :  tf.Tensor(0.4509008, shape=(), dtype=float32)\n"
     ]
    }
   ],
   "source": [
    "X = np.array([[1, 1, 1]], dtype=\"float32\")\n",
    "x_test = tf.convert_to_tensor(X)\n",
    "pre_result = pre_out_func(x_test, W1, b1)\n",
    "print(\"y predict : \", pre_result)\n",
    "error = cost(x_test, y_t, W1, b1)\n",
    "print(\"error : \", error)"
   ]
  },
  {
   "cell_type": "code",
   "execution_count": null,
   "id": "0d8530ac-d1e8-4660-96e5-54e848ce923d",
   "metadata": {},
   "outputs": [],
   "source": []
  },
  {
   "cell_type": "code",
   "execution_count": null,
   "id": "240a57a9-5076-4137-84be-be23c2ecaa2b",
   "metadata": {},
   "outputs": [],
   "source": []
  }
 ],
 "metadata": {
  "kernelspec": {
   "display_name": "Python 3 (ipykernel)",
   "language": "python",
   "name": "python3"
  },
  "language_info": {
   "codemirror_mode": {
    "name": "ipython",
    "version": 3
   },
   "file_extension": ".py",
   "mimetype": "text/x-python",
   "name": "python",
   "nbconvert_exporter": "python",
   "pygments_lexer": "ipython3",
   "version": "3.8.12"
  }
 },
 "nbformat": 4,
 "nbformat_minor": 5
}
