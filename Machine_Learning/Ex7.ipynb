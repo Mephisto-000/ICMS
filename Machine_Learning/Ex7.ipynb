{
 "cells": [
  {
   "cell_type": "markdown",
   "id": "a25d19ee-f400-4c48-9f4b-d506f6452ad1",
   "metadata": {},
   "source": [
    "# 11/10"
   ]
  },
  {
   "cell_type": "code",
   "execution_count": 1,
   "id": "df3c8be2-f61d-412a-a29c-0ce6b6117f9a",
   "metadata": {},
   "outputs": [],
   "source": [
    "import numpy as np\n",
    "import tensorflow as tf\n",
    "import matplotlib.pyplot as plt"
   ]
  },
  {
   "cell_type": "markdown",
   "id": "dbe0bfd5-cda2-41a3-a425-16e480692778",
   "metadata": {},
   "source": [
    "## Ex1 Binary Cross Entropy"
   ]
  },
  {
   "cell_type": "markdown",
   "id": "cd3820fa-9fae-4501-82d3-c30b64deec82",
   "metadata": {},
   "source": [
    "$Y = [0.01, 0.01, 0.01]$  \n",
    "$fx = [0.99, 0.99, 0.01]$"
   ]
  },
  {
   "cell_type": "code",
   "execution_count": 2,
   "id": "56ca160e-3970-4f25-b326-bb0106371cd8",
   "metadata": {},
   "outputs": [],
   "source": [
    "y = [[0.01, 0.01, 0.01]]\n",
    "fx = [[0.99, 0.99, 0.01]]"
   ]
  },
  {
   "cell_type": "code",
   "execution_count": 3,
   "id": "88280236-9c18-46e9-a3cb-25dd03f8cbf2",
   "metadata": {},
   "outputs": [],
   "source": [
    "def cross_entropy_loss(yHat, y):\n",
    "    if y == 1:\n",
    "      return -np.log(yHat)\n",
    "    else:\n",
    "      return -(np.log(1 - yHat) * (1 - y) + np.log(yHat) * y)"
   ]
  },
  {
   "cell_type": "code",
   "execution_count": 4,
   "id": "be1e4ea1-e8ac-41b2-8964-f6a9f45c55c3",
   "metadata": {},
   "outputs": [
    {
     "data": {
      "text/plain": [
       "<tf.Tensor: shape=(), dtype=float64, numpy=3.058146503109446>"
      ]
     },
     "execution_count": 4,
     "metadata": {},
     "output_type": "execute_result"
    }
   ],
   "source": [
    "test = []\n",
    "for i, j in zip(fx[0], y[0]):\n",
    "    tmp = cross_entropy_loss(i, j)\n",
    "    test.append(tmp)\n",
    "test = tf.reduce_mean(test)\n",
    "test"
   ]
  },
  {
   "cell_type": "markdown",
   "id": "807c87be-0493-4dc9-9967-96fdbef383ad",
   "metadata": {},
   "source": [
    "## Ex2 XOR Problem: Two Layer "
   ]
  },
  {
   "cell_type": "markdown",
   "id": "471c5073-c171-4277-9ebb-3beac504cecc",
   "metadata": {},
   "source": [
    "### (a) Use Binary Cross Entropy"
   ]
  },
  {
   "cell_type": "markdown",
   "id": "3f9072e5-d80e-406c-ace7-d69d8bd3f042",
   "metadata": {},
   "source": [
    "1. using $f1(z) = tanh(z)$  \n",
    "2. using $f1(z) = relu(z)$  \n",
    "$f2(z) = sigmoid(z)$"
   ]
  },
  {
   "cell_type": "code",
   "execution_count": 5,
   "id": "92b84658-5110-48c0-8632-60defcb207a5",
   "metadata": {},
   "outputs": [],
   "source": [
    "x_train = np.array([[0.0, 0.0, 1.0], \n",
    "                    [1.0, 1.0, 1.0], \n",
    "                    [1.0, 0.0, 1.0], \n",
    "                    [0.0, 1.0, 1.0]], dtype=\"float32\")\n",
    "\n",
    "y_train = np.array([[0.0, 1.0, 1.0, 0.0]], dtype=\"float32\").T"
   ]
  },
  {
   "cell_type": "code",
   "execution_count": 6,
   "id": "08aae581-9934-4460-a8cc-ff5bc0eceb96",
   "metadata": {},
   "outputs": [
    {
     "name": "stdout",
     "output_type": "stream",
     "text": [
      "x_train : \n",
      " tf.Tensor(\n",
      "[[0. 0. 1.]\n",
      " [1. 1. 1.]\n",
      " [1. 0. 1.]\n",
      " [0. 1. 1.]], shape=(4, 3), dtype=float32)\n",
      "\n",
      "\n",
      "y_train :  tf.Tensor(\n",
      "[[0.]\n",
      " [1.]\n",
      " [1.]\n",
      " [0.]], shape=(4, 1), dtype=float32)\n",
      "\n",
      "\n"
     ]
    }
   ],
   "source": [
    "x_t = tf.convert_to_tensor(x_train)\n",
    "y_t = tf.convert_to_tensor(y_train)\n",
    "print(\"x_train : \\n\", x_t)\n",
    "print(\"\\n\")\n",
    "print(\"y_train : \", y_t)\n",
    "print(\"\\n\")"
   ]
  },
  {
   "cell_type": "code",
   "execution_count": 7,
   "id": "8aaae87a-51e3-43b7-af59-6a09e3bdf21c",
   "metadata": {},
   "outputs": [],
   "source": [
    "W1 = tf.Variable(initial_value=tf.random.normal([3, 1], stddev=0.03), name=\"W1\", dtype=tf.float32)\n",
    "b1 = tf.Variable(initial_value=tf.random.normal([1]), name=\"b1\", dtype=tf.float32)"
   ]
  },
  {
   "cell_type": "code",
   "execution_count": 8,
   "id": "b715b014-6c61-4f78-92d6-2a9a821bac34",
   "metadata": {},
   "outputs": [
    {
     "name": "stdout",
     "output_type": "stream",
     "text": [
      "weight 1 : \n",
      " <tf.Variable 'W1:0' shape=(3, 1) dtype=float32, numpy=\n",
      "array([[ 0.03365771],\n",
      "       [-0.01798138],\n",
      "       [-0.02820131]], dtype=float32)>\n",
      "\n",
      "\n",
      "bias 1 :  <tf.Variable 'b1:0' shape=(1,) dtype=float32, numpy=array([-0.58958143], dtype=float32)>\n",
      "\n",
      "\n"
     ]
    }
   ],
   "source": [
    "print(\"weight 1 : \\n\", W1)\n",
    "print(\"\\n\")\n",
    "print(\"bias 1 : \", b1)\n",
    "print(\"\\n\")"
   ]
  },
  {
   "cell_type": "code",
   "execution_count": 9,
   "id": "e622453e-cd85-4a23-8d69-7c7bdb936170",
   "metadata": {},
   "outputs": [],
   "source": [
    "@tf.function\n",
    "def func_1_relu(x, w, b):\n",
    "    return tf.nn.relu(tf.add(tf.matmul(x, w), b))\n",
    "\n",
    "@tf.function\n",
    "def func_1_tanh(x, w, b):\n",
    "    return tf.tanh(tf.add(tf.matmul(x, w), b))"
   ]
  },
  {
   "cell_type": "code",
   "execution_count": 10,
   "id": "bfb34a87-3af7-4964-a758-e3c97195f550",
   "metadata": {},
   "outputs": [],
   "source": [
    "@tf.function\n",
    "def func_2_sigm(x):\n",
    "    return tf.sigmoid(x)"
   ]
  },
  {
   "cell_type": "code",
   "execution_count": 11,
   "id": "e364c12b-8b7c-4c72-a9d6-c776a54f027f",
   "metadata": {},
   "outputs": [],
   "source": [
    "@tf.function\n",
    "def model_a(x, W1, b1):\n",
    "    lay_1_x = func_1_relu(x, W1, b1)\n",
    "    lay_2_x = func_2_sigm(lay_1_x)\n",
    "    logits = lay_2_x\n",
    "    return logits"
   ]
  },
  {
   "cell_type": "code",
   "execution_count": 12,
   "id": "6548c5aa-6d5d-44f5-81d3-bda481d9dd1d",
   "metadata": {},
   "outputs": [],
   "source": [
    "@tf.function\n",
    "def cost(x, y, w1, b1):\n",
    "    fx = model_a(x, w1, b1)\n",
    "    return tf.reduce_mean(tf.nn.softmax_cross_entropy_with_logits(labels=y, logits=fx))\n",
    "\n",
    "@tf.function\n",
    "def grad(x, y, w1, b1):\n",
    "    with tf.GradientTape() as tape:\n",
    "        loss_ = cost(x, y, w1, b1)\n",
    "    return [tape.gradient(loss_, [w1, b1]), loss_]"
   ]
  },
  {
   "cell_type": "code",
   "execution_count": 13,
   "id": "cddf75b4-4641-4d7a-ac8a-859c4fb648a1",
   "metadata": {},
   "outputs": [],
   "source": [
    "lr_rate = 0.01\n",
    "epochs = 500\n",
    "loss_list = []\n",
    "for k in range(epochs):\n",
    "    loss_tmp = grad(x_t, y_t, W1, b1)[1]\n",
    "    delta_W1, delta_b1 = grad(x_t, y_t, W1, b1)[0]\n",
    "    ch_W1, ch_b1 = delta_W1 * lr_rate, delta_b1 * lr_rate\n",
    "    W1.assign_sub(ch_W1)\n",
    "    b1.assign_sub(ch_b1)\n",
    "    loss_list.append(loss_tmp)"
   ]
  },
  {
   "cell_type": "code",
   "execution_count": 14,
   "id": "d08a31c6-66ec-49f1-bd46-84aee30375f0",
   "metadata": {},
   "outputs": [
    {
     "name": "stdout",
     "output_type": "stream",
     "text": [
      "weight 1 : \n",
      " <tf.Variable 'W1:0' shape=(3, 1) dtype=float32, numpy=\n",
      "array([[ 0.03365771],\n",
      "       [-0.01798138],\n",
      "       [-0.02820131]], dtype=float32)>\n",
      "\n",
      "\n",
      "bias 1 :  <tf.Variable 'b1:0' shape=(1,) dtype=float32, numpy=array([-0.58958143], dtype=float32)>\n",
      "\n",
      "\n"
     ]
    }
   ],
   "source": [
    "print(\"weight 1 : \\n\", W1)\n",
    "print(\"\\n\")\n",
    "print(\"bias 1 : \", b1)\n",
    "print(\"\\n\")"
   ]
  },
  {
   "cell_type": "code",
   "execution_count": 15,
   "id": "a10c31ff-d98b-484b-85bf-4a59431caa84",
   "metadata": {},
   "outputs": [
    {
     "data": {
      "image/png": "[encoded data removed]",
      "text/plain": [
       "<Figure size 720x432 with 1 Axes>"
      ]
     },
     "metadata": {},
     "output_type": "display_data"
    }
   ],
   "source": [
    "epochs = np.linspace(1, epochs, epochs)\n",
    "plt.style.use('ggplot')\n",
    "plt.figure(figsize=(10, 6))\n",
    "plt.plot(epochs, loss_list)\n",
    "plt.title(\"Loss\", fontsize=20)\n",
    "plt.xlabel(\"epoch\", fontsize=15)\n",
    "plt.ylabel(\"CE\", fontsize=15)\n",
    "plt.show()"
   ]
  },
  {
   "cell_type": "code",
   "execution_count": null,
   "id": "b186c3ec-1719-46b6-b489-9348eb42055e",
   "metadata": {},
   "outputs": [],
   "source": []
  },
  {
   "cell_type": "code",
   "execution_count": null,
   "id": "b79ed8b4-8f06-4fdf-825b-f6a3a68cc2ef",
   "metadata": {},
   "outputs": [],
   "source": []
  }
 ],
 "metadata": {
  "kernelspec": {
   "display_name": "Python 3 (ipykernel)",
   "language": "python",
   "name": "python3"
  },
  "language_info": {
   "codemirror_mode": {
    "name": "ipython",
    "version": 3
   },
   "file_extension": ".py",
   "mimetype": "text/x-python",
   "name": "python",
   "nbconvert_exporter": "python",
   "pygments_lexer": "ipython3",
   "version": "3.8.12"
  }
 },
 "nbformat": 4,
 "nbformat_minor": 5
}
