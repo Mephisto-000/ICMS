{
 "cells": [
  {
   "cell_type": "markdown",
   "id": "08e39755-9595-4ab3-bbc1-8769207e9acc",
   "metadata": {},
   "source": [
    "# 小型系外行星深度學習模型 : "
   ]
  },
  {
   "cell_type": "code",
   "execution_count": 1,
   "id": "53f04ca0-5f3e-429b-afe6-0d1d91688297",
   "metadata": {},
   "outputs": [],
   "source": [
    "import numpy as np\n",
    "import matplotlib.pyplot as plt\n",
    "import Ex3_fun as fun\n",
    "np.random.seed(1)"
   ]
  },
  {
   "cell_type": "code",
   "execution_count": 2,
   "id": "3661f549-d089-41a3-8aea-8ef4fc796978",
   "metadata": {},
   "outputs": [
    {
     "name": "stdout",
     "output_type": "stream",
     "text": [
      "(100, 30)\n",
      "(100, 30)\n"
     ]
    }
   ],
   "source": [
    "mp1, np1 = 100, 30\n",
    "\n",
    "noise_1 = (2*np.random.random((mp1, np1)) - 1)*0.1\n",
    "X_train1 = np.ones((mp1, np1)) + noise_1\n",
    "\n",
    "print(noise_1.shape)\n",
    "print(X_train1.shape)"
   ]
  },
  {
   "cell_type": "code",
   "execution_count": 3,
   "id": "76c19b0e-526b-487d-ab1a-8f9d7291285f",
   "metadata": {},
   "outputs": [
    {
     "name": "stdout",
     "output_type": "stream",
     "text": [
      "(100, 30)\n",
      "(100, 30)\n"
     ]
    }
   ],
   "source": [
    "mp2, np2 = 100, 30\n",
    "\n",
    "np2_randomMean_range = np.arange(1, 29)\n",
    "\n",
    "noise_2 = (2*np.random.random((mp2, np2)) - 1)*0.1\n",
    "X_train2 = np.ones((mp2, np1))\n",
    "\n",
    "for i in range(mp2):\n",
    "    choose_mean_number = np.random.choice(np2_randomMean_range, 1, replace=False)\n",
    "    choose_number = [choose_mean_number - 1, choose_mean_number, choose_mean_number + 1]\n",
    "    X_train2[i][choose_number[0]] = 0.1\n",
    "    X_train2[i][choose_number[1]] = 0.1\n",
    "    X_train2[i][choose_number[2]] = 0.1\n",
    "    \n",
    "X_train2 = X_train2 + noise_2\n",
    "print(noise_2.shape)\n",
    "print(X_train2.shape)"
   ]
  },
  {
   "cell_type": "code",
   "execution_count": 4,
   "id": "63f2f599-2be0-46fd-84b6-875b5ddcd303",
   "metadata": {},
   "outputs": [],
   "source": [
    "Y_train1 = np.zeros(mp1)[:, np.newaxis]\n",
    "Y_train2 = np.ones(mp2)[:, np.newaxis]"
   ]
  },
  {
   "cell_type": "code",
   "execution_count": 5,
   "id": "5233fcbe-75d8-4d59-ba94-46d124b13101",
   "metadata": {},
   "outputs": [],
   "source": [
    "w = (2*np.random.random((np1, 1)) - 1)*0.25\n",
    "b = (2*np.random.random(1) - 1)*0.25"
   ]
  },
  {
   "cell_type": "code",
   "execution_count": 6,
   "id": "1f553177-56c4-46cc-b972-75ff4c5c1bbf",
   "metadata": {},
   "outputs": [],
   "source": [
    "X1 = fun.sigm(np.dot(X_train1, w))\n",
    "error1 = np.sqrt(np.dot((Y_train1 - X1).T, Y_train1 - X1))"
   ]
  },
  {
   "cell_type": "code",
   "execution_count": 7,
   "id": "c73098d9-bf63-4ae0-aa5d-16ce66146ffe",
   "metadata": {},
   "outputs": [],
   "source": [
    "epochs = 5000\n",
    "eta = 0.1\n",
    "X0 = X_train1"
   ]
  },
  {
   "cell_type": "code",
   "execution_count": 8,
   "id": "ac0ef014-ff48-4106-9f33-4b660d7f5d1f",
   "metadata": {},
   "outputs": [],
   "source": [
    "error_set = []\n",
    "for k in range(epochs):\n",
    "    X1 = fun.sigm(np.dot(X0, w) + b)\n",
    "    X1_err = X1 - Y_train1 \n",
    "    X1_delta = X1_err * fun.sigm_deriv(X1)\n",
    "    \n",
    "    w = w - eta * np.dot(X0.T, X1_delta)\n",
    "    c = np.ones(len(X1_delta))\n",
    "    b = b - eta * np.dot(c, X1_delta)\n",
    "    \n",
    "    error = np.sqrt(np.dot((Y_train1 - X1).T, Y_train1 - X1)).squeeze()\n",
    "    error_set.append(error)"
   ]
  },
  {
   "cell_type": "code",
   "execution_count": 9,
   "id": "db22847b-e159-4340-a87e-3f18e3446f38",
   "metadata": {},
   "outputs": [],
   "source": [
    "X1 = fun.sigm(np.dot(X_train1, w) + b)\n",
    "error2 = np.sqrt(np.dot((Y_train1 - X1).T, Y_train1 - X1)) / len(X1)"
   ]
  },
  {
   "cell_type": "code",
   "execution_count": 10,
   "id": "5d48501f-68b1-4416-b79d-832063a96466",
   "metadata": {},
   "outputs": [
    {
     "name": "stdout",
     "output_type": "stream",
     "text": [
      "Output test Training : \n",
      " [1. 1. 1. 1. 1. 1. 1. 1. 1. 1. 1. 1. 1. 1. 1. 1. 1. 1. 1. 1. 1. 1. 1. 1.\n",
      " 1. 1. 1. 1. 1. 1.]\n",
      "\n",
      "Output results : \n",
      "Predict =  [2.86884802e-14]\n",
      "\n",
      "Output test Training : \n",
      " [1.  1.  1.  1.  1.  0.1 0.1 0.1 1.  1.  1.  1.  1.  1.  1.  1.  1.  1.\n",
      " 1.  1.  1.  1.  1.  1.  1.  1.  1.  1.  1.  1. ]\n",
      "\n",
      "Output results Predict = :  [3.9778558e-13]\n"
     ]
    }
   ],
   "source": [
    "test1 = np.ones(np1)\n",
    "print(\"Output test Training : \\n\", test1)\n",
    "print(\"\\nOutput results : \")\n",
    "X1 = fun.sigm(np.dot(test1, w) + b)\n",
    "print(\"Predict = \", X1)\n",
    "test1[5] = 0.1\n",
    "test1[6] = 0.1\n",
    "test1[7] = 0.1\n",
    "print(\"\\nOutput test Training : \\n\", test1)\n",
    "X1 = fun.sigm(np.dot(test1, w) + b)\n",
    "print(\"\\nOutput results Predict = : \", X1)\n"
   ]
  },
  {
   "cell_type": "code",
   "execution_count": null,
   "id": "c9a7b78b-6ed8-48ab-97ff-73058f2b9b81",
   "metadata": {},
   "outputs": [],
   "source": []
  },
  {
   "cell_type": "code",
   "execution_count": null,
   "id": "aa170faa-c967-4891-bcf8-7dc5d38582a8",
   "metadata": {},
   "outputs": [],
   "source": []
  },
  {
   "cell_type": "code",
   "execution_count": null,
   "id": "97fb41ff-2688-4ca4-8d9e-0c878e0274fb",
   "metadata": {},
   "outputs": [],
   "source": []
  }
 ],
 "metadata": {
  "kernelspec": {
   "display_name": "Python 3 (ipykernel)",
   "language": "python",
   "name": "python3"
  },
  "language_info": {
   "codemirror_mode": {
    "name": "ipython",
    "version": 3
   },
   "file_extension": ".py",
   "mimetype": "text/x-python",
   "name": "python",
   "nbconvert_exporter": "python",
   "pygments_lexer": "ipython3",
   "version": "3.8.12"
  }
 },
 "nbformat": 4,
 "nbformat_minor": 5
}
