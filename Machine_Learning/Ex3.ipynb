{
 "cells": [
  {
   "cell_type": "markdown",
   "id": "a3411229-e28c-424e-a15c-7a0e17bdf599",
   "metadata": {},
   "source": [
    "# Hw 10/13"
   ]
  },
  {
   "cell_type": "markdown",
   "id": "b0ffde80-20b6-4529-8979-c1594dfd9160",
   "metadata": {},
   "source": [
    "## ex1 : Def fun(z) and dfun(z)"
   ]
  },
  {
   "cell_type": "code",
   "execution_count": 1,
   "id": "99bdb32e-3811-4a4a-92c4-8222a02dd094",
   "metadata": {},
   "outputs": [],
   "source": [
    "import numpy as np\n",
    "import matplotlib.pyplot as plt\n",
    "import Ex3_fun as fun\n",
    "# %matplotlib widget\n",
    "np.random.seed(1)"
   ]
  },
  {
   "cell_type": "code",
   "execution_count": 2,
   "id": "58352e91-3e5b-4c69-b024-6b0fcf6b4f78",
   "metadata": {},
   "outputs": [],
   "source": [
    "z = np.linspace(1, 5, 5)"
   ]
  },
  {
   "cell_type": "code",
   "execution_count": 3,
   "id": "6d253d2e-b068-4afc-8789-fd39ad488cac",
   "metadata": {},
   "outputs": [
    {
     "name": "stdout",
     "output_type": "stream",
     "text": [
      "f is sigmoid : \n",
      "f(1.0) = 0.7310585786300049\n",
      "f(2.0) = 0.8807970779778823\n",
      "f(3.0) = 0.9525741268224334\n",
      "f(4.0) = 0.9820137900379085\n",
      "f(5.0) = 0.9933071490757153\n",
      "\n",
      "\n",
      "df(1.0) = 0.19661193324148185\n",
      "df(2.0) = 0.10499358540350662\n",
      "df(3.0) = 0.045176659730912\n",
      "df(4.0) = 0.017662706213291107\n",
      "df(5.0) = 0.006648056670790033\n"
     ]
    }
   ],
   "source": [
    "print(\"f is sigmoid : \")\n",
    "\n",
    "for i in z:\n",
    "    tmp = fun.sigm(i)\n",
    "    print(f\"f({i}) = {tmp}\")\n",
    "print(\"\\n\")\n",
    "for i in z:\n",
    "    tmp = fun.sigm_deriv(i)\n",
    "    print(f\"df({i}) = {tmp}\")"
   ]
  },
  {
   "cell_type": "code",
   "execution_count": 4,
   "id": "06ce4c0a-5f5d-4f0b-851a-ec7fcc368025",
   "metadata": {},
   "outputs": [
    {
     "name": "stdout",
     "output_type": "stream",
     "text": [
      "f is tanh : \n",
      "f(1.0) = 0.7615941559557649\n",
      "f(2.0) = 0.9640275800758169\n",
      "f(3.0) = 0.9950547536867305\n",
      "f(4.0) = 0.999329299739067\n",
      "f(5.0) = 0.9999092042625951\n",
      "\n",
      "\n",
      "df(1.0) = -1.42551882081476\n",
      "df(2.0) = -3.7743992040419174\n",
      "df(3.0) = 0.979680483057573\n",
      "df(4.0) = -0.3405501218616205\n",
      "df(5.0) = -10.427881707458354\n"
     ]
    }
   ],
   "source": [
    "print(\"f is tanh : \")\n",
    "\n",
    "for i in z:\n",
    "    tmp = fun.tanh(i)\n",
    "    print(f\"f({i}) = {tmp}\")\n",
    "print(\"\\n\")\n",
    "for i in z:\n",
    "    tmp = fun.tanh_deriv(i)\n",
    "    print(f\"df({i}) = {tmp}\")"
   ]
  },
  {
   "cell_type": "code",
   "execution_count": 5,
   "id": "50cd36b3-12e0-47c5-a0c5-ef92de8e200b",
   "metadata": {},
   "outputs": [
    {
     "name": "stdout",
     "output_type": "stream",
     "text": [
      "f is ReLu : \n",
      "f(1.0) = 1.0\n",
      "f(2.0) = 2.0\n",
      "f(3.0) = 3.0\n",
      "f(4.0) = 4.0\n",
      "f(5.0) = 5.0\n",
      "\n",
      "\n",
      "df(1.0) = 1\n",
      "df(2.0) = 1\n",
      "df(3.0) = 1\n",
      "df(4.0) = 1\n",
      "df(5.0) = 1\n"
     ]
    }
   ],
   "source": [
    "print(\"f is ReLu : \")\n",
    "\n",
    "for i in z:\n",
    "    tmp = fun.relu(i)\n",
    "    print(f\"f({i}) = {tmp}\")\n",
    "print(\"\\n\")\n",
    "for i in z:\n",
    "    tmp = fun.relu_deriv(i)\n",
    "    print(f\"df({i}) = {tmp}\")"
   ]
  },
  {
   "cell_type": "markdown",
   "id": "b8c9add8-b332-444a-b254-018a49969ff4",
   "metadata": {},
   "source": [
    "## ex2 : A Tiny Toy Network"
   ]
  },
  {
   "cell_type": "markdown",
   "id": "17a7037e-540d-443e-b140-1d70975f8fea",
   "metadata": {},
   "source": [
    "### Step 0 :"
   ]
  },
  {
   "cell_type": "code",
   "execution_count": 6,
   "id": "a36c6f9e-a730-4c64-b4b8-f26e02544c41",
   "metadata": {},
   "outputs": [],
   "source": [
    "x = np.array([[0, 0, 1], \n",
    "             [1, 1, 1], \n",
    "             [1, 0, 1], \n",
    "             [0, 1, 1]])\n",
    "\n",
    "y = np.array([[0, 1, 1, 0]]).T"
   ]
  },
  {
   "cell_type": "markdown",
   "id": "7089b3ea-2b39-4a29-980e-a362485bf112",
   "metadata": {},
   "source": [
    "### Step 1 & 2  : "
   ]
  },
  {
   "cell_type": "code",
   "execution_count": 7,
   "id": "a6c5698e-7906-4d59-bfe3-d8c3ab9c61d6",
   "metadata": {},
   "outputs": [],
   "source": [
    "w = (2*np.random.random((3, 1)) - 1)*0.25\n",
    "b = (2*np.random.random((1)) - 1)*0.25"
   ]
  },
  {
   "cell_type": "code",
   "execution_count": 8,
   "id": "b747f4f3-50f0-44ff-bf55-efb376096bdd",
   "metadata": {},
   "outputs": [],
   "source": [
    "# Use sigmoid : \n",
    "x1_sigm = fun.sigm(np.dot(x, w))\n",
    "\n",
    "# Use tanh : \n",
    "x1_tanh = fun.tanh(np.dot(x, w))\n",
    "\n",
    "# Use ReLu : \n",
    "x1_relu = fun.relu(np.dot(x, w))"
   ]
  },
  {
   "cell_type": "code",
   "execution_count": 9,
   "id": "10842e6d-a417-43d0-bae2-763b1cb6349c",
   "metadata": {},
   "outputs": [
    {
     "name": "stdout",
     "output_type": "stream",
     "text": [
      "error, using sigm :  1.016291014793053\n",
      "error, using tanh :  1.7655783392071338\n",
      "error, using relu :  1.77347227730157\n"
     ]
    }
   ],
   "source": [
    "# calculate the error : \n",
    "\n",
    "err_sigm = np.sqrt(np.dot((y - x1_sigm).T, y - x1_sigm))\n",
    "\n",
    "err_tanh = np.sqrt(np.dot((y - x1_tanh).T, y - x1_tanh))\n",
    "\n",
    "err_relu = np.sqrt(np.dot((y - x1_relu).T, y - x1_relu))\n",
    "\n",
    "print(\"error, using sigm : \", err_sigm.squeeze())\n",
    "print(\"error, using tanh : \", err_tanh.squeeze())\n",
    "print(\"error, using relu : \", err_relu.squeeze())"
   ]
  },
  {
   "cell_type": "markdown",
   "id": "89009d93-ba96-4663-9668-e5a3d7ed6301",
   "metadata": {},
   "source": [
    "### Step 3 : Each epoch"
   ]
  },
  {
   "cell_type": "code",
   "execution_count": 10,
   "id": "d10c1afb-f29a-4fa6-b8ba-a1a889ca341c",
   "metadata": {},
   "outputs": [],
   "source": [
    "epochs = 5000\n",
    "eta = 0.01\n",
    "x0 = x"
   ]
  },
  {
   "cell_type": "code",
   "execution_count": 11,
   "id": "1f135329-026b-4604-be80-0dee42fe70ee",
   "metadata": {},
   "outputs": [],
   "source": [
    "error_set = []\n",
    "for k in range(epochs):\n",
    "    X1 = fun.sigm(np.dot(x, w) + b)\n",
    "    X1_err = X1 - y\n",
    "    X1_delta = X1_err * fun.sigm_deriv(X1)\n",
    "    \n",
    "    w = w - eta * np.dot(x0.T, X1_delta)\n",
    "    c = np.ones(len(X1_delta))\n",
    "    b = b - eta * np.dot(c, X1_delta)\n",
    "    \n",
    "    error = np.sqrt(np.dot((y - X1).T, y - X1)).squeeze()\n",
    "    error_set.append(error)"
   ]
  },
  {
   "cell_type": "code",
   "execution_count": 12,
   "id": "8fd54c29-8095-415b-b5c5-0153b4978aba",
   "metadata": {},
   "outputs": [
    {
     "name": "stdout",
     "output_type": "stream",
     "text": [
      "After training, Error =  0.198681720888498\n"
     ]
    }
   ],
   "source": [
    "X1 = fun.sigm(np.dot(x, w) + b)\n",
    "error2 = np.sqrt(np.dot((y - X1).T, y - X1))\n",
    "print(\"After training, Error = \", error2.squeeze())"
   ]
  },
  {
   "cell_type": "code",
   "execution_count": 13,
   "id": "f088ea56-9e38-4660-a49c-587d2e703e0e",
   "metadata": {},
   "outputs": [
    {
     "name": "stdout",
     "output_type": "stream",
     "text": [
      "weight : \n",
      " [[ 4.42548262]\n",
      " [-0.19379309]\n",
      " [-1.12555267]]\n",
      "\n",
      "\n",
      "bias :  [-0.97444357]\n"
     ]
    }
   ],
   "source": [
    "print(\"weight : \\n\", w)\n",
    "print(\"\\n\")\n",
    "print(\"bias : \", b)"
   ]
  },
  {
   "cell_type": "code",
   "execution_count": 14,
   "id": "488aad6e-8479-4147-8a24-9a94e0ef66ad",
   "metadata": {},
   "outputs": [
    {
     "name": "stdout",
     "output_type": "stream",
     "text": [
      "Result :  0.10909718718064933\n",
      "y0 :  0\n"
     ]
    }
   ],
   "source": [
    "pre_x = np.array([[0, 0, 1]])\n",
    "pre_result = np.dot(pre_x, w) + b\n",
    "\n",
    "\n",
    "print(\"Result : \", fun.sigm(pre_result).squeeze())\n",
    "print(\"y0 : \", 0)"
   ]
  },
  {
   "cell_type": "code",
   "execution_count": 15,
   "id": "c38c4d5c-6db0-4831-bc91-f007c235c9c9",
   "metadata": {},
   "outputs": [
    {
     "data": {
      "application/vnd.jupyter.widget-view+json": {
       "model_id": "47280cff6f7f4fd181c0523badb2cc6f",
       "version_major": 2,
       "version_minor": 0
      },
      "text/html": [
       "\n",
       "            <div style=\"display: inline-block;\">\n",
       "                <div class=\"jupyter-widgets widget-label\" style=\"text-align: center;\">\n",
       "                    Figure\n",
       "                </div>\n",
       "                <img src='data:image/png;base64,iVBORw0KGgoAAAANSUhEUgAABLAAAAMgCAYAAAAz4JsCAAAAOXRFWHRTb2Z0d2FyZQBNYXRwbG90bGliIHZlcnNpb24zLjQuMywgaHR0cHM6Ly9tYXRwbG90bGliLm9yZy/MnkTPAAAACXBIWXMAAA9hAAAPYQGoP6dpAAB1DUlEQVR4nOzdd5SddYH/8c+dkpn03ivpJKGGDqETRcUuqCtY4LciCirqLuquK64rq66KFbtYEUUEQQSC9E4CCZCEQEiZ9Ep6Mplk5vdHIIoUKUmeOzOv1zkczOVO9jPnfHcMb5/nuaWmpqamAAAAAECZqih6AAAAAAC8GAELAAAAgLImYAEAAABQ1gQsAAAAAMqagAUAAABAWROwAAAAAChrAhYAAAAAZU3AAgAAAKCsCVgAAAAAlDUBCwAAAICyJmABAAAAUNYELAAAAADKmoAFAAAAQFkTsAAAAAAoawIWAAAAAGVNwAIAAACgrAlYAAAAAJQ1AQsAAACAsiZgAQAAAFDWBCwAAAAAypqABQAAAEBZE7AAAAAAKGsCFgAAAABlTcACAAAAoKwJWAAAAACUNQELAAAAgLImYAEAAABQ1gQsAAAAAMqagAUAAABAWROwAAAAAChrAhYAAAAAZU3AAgAAAKCsCVgAAAAAlDUBCwAAAICyJmABAAAAUNYELAAAAADKmoAFAAAAQFkTsAAAAAAoawIWAAAAAGVNwAIAAACgrAlYAAAAAJQ1AQsAAACAsiZgAQAAAFDWBCwAAAAAypqABQAAAEBZE7AAAAAAKGsCFgAAAABlTcACAAAAoKwJWAAAAACUNQELAAAAgLImYAEAAABQ1gQsAAAAAMqagAUAAABAWROwAAAAAChrAhYAAAAAZU3AAgAAAKCsCVgAAAAAlDUBCwAAAICyJmABAAAAUNYELAAAAADKmoAFAAAAQFkTsAAAAAAoawIWAAAAAGVNwAIAAACgrAlYAAAAAJQ1AQsAAACAsiZgAQAAAFDWBCwAAAAAypqABQAAAEBZE7AAAAAAKGsCFgAAAABlTcACAAAAoKwJWAAAAACUNQELAAAAgLImYAEAAABQ1gQsAAAAAMqagAUAAABAWROwAAAAAChrAhYAAAAAZU3AAgAAAKCsCVgAAAAAlDUBCwAAAICyJmABAAAAUNYELAAAAADKmoAFAAAAQFkTsAAAAAAoawIWAAAAAGVNwAIAAACgrAlYAAAAAJQ1AQsAAACAsiZgAQAAAFDWBCwAAAAAypqABQAAAEBZE7AAAAAAKGtVRQ+g5WlsbMzixYvTsWPHlEqloucAAADQwjU1NWX9+vXp169fKipcq9MSCVjscosXL87AgQOLngEAAEArs2DBggwYMKDoGewGAha7XMeOHZPs+MHRqVOngte8sIaGhtx4442ZOHFiqquri54Dz+GMUu6cUcqdM0pz4JxS7prLGV23bl0GDhy4899HaXkELHa5Z24b7NSpU9kHrHbt2qVTp05l/YOY1ssZpdw5o5Q7Z5TmwDml3DW3M+oxNi2XG0MBAAAAKGsCFgAAAABlTcACAAAAoKwJWAAAAACUNQELAAAAgLImYAEAAABQ1gQsAAAAAMqagAUAAABAWROwAAAAAChrAhYAAAAAZU3AAgAAAKCsCVgAAAAAlDUBCwAAAICyJmABAAAAUNYELAAAAADKmoAFAAAAQFkTsAAAAAAoawIWAAAAAGVNwAIAAACgrAlYAAAAAJQ1AQsAAACAsiZgAQAAAFDWBCwAAAAAypqARavV1NSUZZuTxsamoqcAAAAAL0LAolVqamrKW75/b740tSqPLF5X9BwAAADgRQhYtEqlUikDu7ZLktz2+IqC1wAAAAAvRsCi1TpmZI8kyW2Pryx4CQAAAPBiBCxaraNH7AhYDy9alxXr6wteAwAAALwQAYtWq1fHmgxov+MB7m4jBAAAgPIlYNGqjemyI2DdMmt5wUsAAACAFyJg0aqN6dqYJLn98RXZtr2x4DUAAADA8xGwaNUGd0i6tqvO+i3b8mDdmqLnAAAAAM9DwKJVqyglE4bveJi72wgBAACgPAlYtHrHjHw6YD0mYAEAAEA5ErBo9SaM6J5SKXls6fosWbu56DkAAADAPxCwaPW6tmuTAwZ2SZL8daarsAAAAKDcCFgt3O23355TTjkl/fr1S6lUylVXXfVPv+a2227L+PHjU1tbm6FDh+b73//+7h9asBPH9E6STJqxrOAlAAAAwD8SsFq4jRs3Zr/99st3vvOdl/T+uXPn5nWve10mTJiQhx56KJ/5zGdy3nnn5Q9/+MNuXlqsiWP6JEnufnJl1m9pKHgNAAAA8Peqih7A7nXyySfn5JNPfsnv//73v59Bgwbl4osvTpLsvffemTx5cv7v//4vb3vb23bTyuIN79UhQ3u2z5wVG3PrrBU5Zb9+RU8CAAAAniZg8Sz33HNPJk6c+KzXXvOa1+QnP/lJGhoaUl1d/Zyvqa+vT319/c5fr1u3LknS0NCQhobyvZrpmW3P/P3E0T3zwxUbc/2jS/LaMT2LnAZJnntGodw4o5Q7Z5TmwDml3DWXM1ru+3j1BCyeZenSpendu/ezXuvdu3e2bduWlStXpm/fvs/5mosuuigXXnjhc16/8cYb065du922dVeZNGlSkqT9+iSpyl9nLMmfrl2YKjfYUiaeOaNQrpxRyp0zSnPgnFLuyv2Mbtq0qegJ7GYCFs9RKpWe9eumpqbnff0Zn/70p3P++efv/PW6desycODATJw4MZ06ddp9Q1+lhoaGTJo0KSeddFKqq6vT2NiUX827LSs2bE3X0YdkwvAeRU+klfvHMwrlxhml3DmjNAfOKeWuuZzRZ+4EouUSsHiWPn36ZOnSpc96bfny5amqqkr37t2f92tqampSU1PznNerq6vL+gfcM/5+50lj++Q399Xl5lkrc/zez73aDIrQXP5/idbLGaXcOaM0B84p5a7cz2g5b2PXcJMUz3L44Yc/59LQG2+8MQcddFCr+IEwccyO2ycnzViWxsamgtcAAAAAiYDV4m3YsCFTp07N1KlTkyRz587N1KlTU1dXl2TH7X9nnHHGzvefffbZmT9/fs4///zMnDkzP/3pT/OTn/wkn/zkJ4uYv8cdPqx7OtRUZdm6+jy8aG3RcwAAAIAIWC3e5MmTc8ABB+SAAw5Ikpx//vk54IAD8rnPfS5JsmTJkp0xK0n22muvXHfddbn11luz//7757//+7/zrW99K29729sK2b+n1VRV5thROz6B8PpHl/6TdwMAAAB7gmdgtXDHHnvszoewP59LL730Oa8dc8wxefDBB3fjqvL22nF9cu3DS/KXR5fk31876gUfXg8AAADsGa7Agn9w/Oheqa2uyPxVm/LoIp9kAQAAAEUTsOAftGtTlRNG73iY+7WPLC54DQAAACBgwfN4/b59kyR/fnjJi96CCQAAAOx+AhY8j+NG9Uq7NpVZ+NTmPLzQpxECAABAkQQseB5t21TmhL133Eb450eWFLwGAAAAWjcBC17A6/dxGyEAAACUAwELXsCxo3qmfZvKLFqzOVMXrCl6DgAAALRaAha8gNrqypw45unbCB92GyEAAAAURcCCF/GGffslSa55eHG2N7qNEAAAAIogYMGLOGZkz3RpV51l6+pz75xVRc8BAACAVknAghfRpqpi58Pcr3xwUcFrAAAAoHUSsOCfeMsB/ZMk1z+6JJu3bi94DQAAALQ+Ahb8E+MHd83Abm2zcev2TJq5rOg5AAAA0OoIWPBPlEqlvGX/HVdh/fHBhQWvAQAAgNZHwIKX4E1P30Z4+xMrs3JDfcFrAAAAoHURsOAlGNazQ/Yb0DnbG5tyzbTFRc8BAACAVkXAgpfomYe5X/WQTyMEAACAPUnAgpfoDfv1S2VFKdMWrs3s5RuKngMAAACthoAFL1GPDjU5blTPJMnvJy8oeA0AAAC0HgIWvAzvOGhgkuQPDy5Mw/bGgtcAAABA6yBgwctw/Ohe6dGhJis3bM3Njy0veg4AAAC0CgIWvAzVlRV524E7HubuNkIAAADYMwQseJmeuY3wllkrsnzdloLXAAAAQMsnYMHLNLxXhxw0uGu2NzbligcXFj0HAAAAWjwBC16BU5++Cuv3kxemqamp4DUAAADQsglY8Aq8ft++ad+mMnNXbswD854qeg4AAAC0aAIWvALta6ryhn37JUl++0BdwWsAAACgZROw4BV65yE7biP888NLsmbT1oLXAAAAQMslYMErtP/ALhnTt1PqtzXmiike5g4AAAC7i4AFr1CpVMp7DhucJPnVvfPT2Ohh7gAAALA7CFjwKrxp/37pWFOVeas25a4nVxY9BwAAAFokAQtehfY1VXnrgf2T7LgKCwAAANj1BCx4lf7l6dsIb5q5PEvWbi54DQAAALQ8Aha8SiN7d8whe3XL9samXHb/gqLnAAAAQIsjYMEucPrTV2H99v66NGxvLHgNAAAAtCwCFuwCrxnbJz061GT5+vrcNGNZ0XMAAACgRRGwYBdoU1WR0w4ekCT5+T3zih0DAAAALYyABbvIew4bnMqKUu6dszrTF68teg4AAAC0GAIW7CJ9O7fN6/bpmyT52V3zih0DAAAALYiABbvQ+48ckiT509TFWbG+vtgxAAAA0EIIWLALHTioa/Yf2CVbtzfmN/fVFT0HAAAAWgQBC3axDxy1V5Lkl/fOT/227QWvAQAAgOZPwIJd7ORxfdKnU21WbqjPtdOWFD0HAAAAmj0BC3ax6sqKnH744CTJT++am6ampoIXAQAAQPMmYMFu8O5DBqWmqiLTF6/LA/OeKnoOAAAANGsCFuwGXdu3yVsPHJAk+cmdcwpeAwAAAM2bgAW7yQeOHJIkuXHGssxdubHYMQAAANCMCViwm4zo3TEnjO6Vpqbkh7e7CgsAAABeKQELdqMPHjMsSfKHBxdm+fotBa8BAACA5knAgt3o4CFdc8CgLtm6rTE/v3te0XMAAACgWRKwYDcqlUr54NE7rsL65T3zs6F+W8GLAAAAoPkRsGA3mzimd4b2aJ91W7blt/fXFT0HAAAAmh0BC3aziopS/vXooUmSn9w5N1u3NRa8CAAAAJoXAQv2gDcf0D89O9ZkydotuWba4qLnAAAAQLMiYMEeUFtdmQ8cuVeS5Ae3P5mmpqaCFwEAAEDzIWDBHvLuQwelQ01VHl+2ITc/trzoOQAAANBsCFiwh3RuW51/OXRQkuQ7t8x2FRYAAAC8RAIW7EFnTtgrNVUVeahuTe5+clXRcwAAAKBZELBgD+rVsTbvOmTHVVjfvvmJgtcAAABA8yBgwR72wWOGprqylHvnrM4D81YXPQcAAADKnoAFe1jfzm3z9vEDkyTfvnl2wWsAAACg/AlYUIAPHTMslRWl3P74ikxdsKboOQAAAFDWBCwowKDu7fLm/fsnSb7jKiwAAAB4UQIWFOSc44alVEpumrksMxavK3oOAAAAlC0BCwoyrGeHvGHffkmS797iKiwAAAB4IQIWFOjDxw1Lklz36JLMXr6+4DUAAABQngQsKNDoPp3ymrG909SUXHzTE0XPAQAAgLIkYEHBPnbiyCTJnx9ZkseWehYWAAAA/CMBCwq2d99Oef0+fdPUlHzTVVgAAADwHAIWlIGPnjgipVLyl0eXZvritUXPAQAAgLIiYEEZGNm7Y055+hMJvzHJVVgAAADw9wQsKBMfPXFEKkrJTTOX5eGFa4qeAwAAAGVDwIIyMaxnh7z5gP5Jkm9MerzgNQAAAFA+BCwoI+cdPyKVFaXcMmtFHqx7qug5AAAAUBYELCgjQ3q0z9sOdBUWAAAA/D0BC8rMucePSFVFKXc8sTL3z11d9BwAAAAonIAFZWZgt3Y59eCBSZL/u3FWmpqaCl4EAAAAxRKwoAx95LjhaVNVkfvnrs5tj68oeg4AAAAUSsCCMtSvS9u89/DBSZKvXD8rjY2uwgIAAKD1ErCgTJ1z7PB0rKnKjCXrcu0jS4qeAwAAAIURsKBMdW3fJv969NAkyddunJWG7Y0FLwIAAIBiCFhQxj5w1F7p0aFN5q/alMsfWFD0HAAAACiEgAVlrH1NVc49fkSS5Jt/fSKbt24veBEAAADseQIWlLl3HTIoA7u1zYr19fnZ3XOLngMAAAB7nIAFZa5NVUU+cdKoJMkltz6ZNZu2FrwIAAAA9iwBC5qBN+7XL6P7dMz6LdtyyW1PFj0HAAAA9igBC5qBiopS/u21O67CuvSueVm6dkvBiwAAAGDPEbCgmThuVK8cPKRr6rc15uKbHi96DgAAAOwxAhY0E6VSKf/+2tFJkt9NXpDHl60veBEAAADsGQIWNCMHDemW147tk8am5KLrZhY9BwAAAPYIAQuamX8/eXSqKkq5ZdaK3DV7ZdFzAAAAYLcTsKCZ2atH+7znsMFJki9dNzONjU0FLwIAAIDdS8CCZui8E0akY01Vpi9el6umLip6DgAAAOxWAhY0Q93at8k5xw1Pknz1hlnZ0rC94EUAAACw+whY0Ey9/8gh6de5NkvWbslP7pxb9BwAAADYbQQsaKZqqyvzqdeOSpJccuuTWbWhvuBFAAAAsHsIWNCMvWm//hnXv1M21G/LN//6RNFzAAAAYLcQsKAZq6go5TMn750k+c19dXlyxYaCFwEAAMCuJ2BBM3fE8B45fnSvbGtsypf/8ljRcwAAAGCXE7CgBfj0yaNTUUpunLEs985ZVfQcAAAA2KUELGgBRvTumHcfOihJcuE1M7K9sangRQAAALDrCFjQQpx/0qh0qq3KzCXr8rvJC4qeAwAAALuMgAUtRLf2bfLRE0cmSf7vhllZt6Wh4EUAAACwawhY0IKccfjgDO3ZPqs2bs13bp5d9BwAAADYJQQsaEGqKyvyH6/fO0nys7vmZu7KjQUvAgAAgFdPwIIW5rhRvXL0yJ5p2N6U//nzzKLnAAAAwKsmYEELUyqV8p+v3zuVFaXcNHNZ7nxiZdGTAAAA4FURsKAFGtG7Y04/bHCS5L+vnZFt2xsLXgQAAACvnIAFLdTHThyRLu2qM2vZ+lz2wIKi5wAAAMArJmBBC9WlXZt8/MSRSZKv3zgrazc1FLwIAAAAXhkBC1qwfzl0UEb06pCnNjXkm399oug5AAAA8IoIWNCCVVVW5D/fMCZJ8ot75uWJZesLXgQAAAAvn4AFLdzRI3vmxL17Z1tjUz5/zfQ0NTUVPQkAAABeFgELWoHPvWFM2lRV5K7Zq/KXR5cWPQcAAABeFgELWoFB3dvlQ8cMS5J88doZ2bR1W8GLAAAA4KUTsKCV+NCxwzKga9ssXrsl371ldtFzAAAA4CUTsKCVqK2u3PlA9x/dPjdzV24seBEAAAC8NAIWtCITx/TO0SN7Zuv2xlzoge4AAAA0EwIWtCKlUimfP2VMqitLuXXWivx15vKiJwEAAMA/JWBBKzO0Z4ecNWFokuTCa6dnS8P2ghcBAADAixOwoBX6yHHD06dTbRas3pwf3j6n6DkAAADwogQsaIXa11Tls6/fO0ny3VtmZ8HqTQUvAgAAgBcmYEEr9YZ9++bwod1Tv60xX/zzjKLnAAAAwAsSsKCVKpVKufBNY1NZUcoN05fl1lke6A4AAEB5ErCgFRvZu2Pef8SQJMnnrvZAdwAAAMqTgNUKfO9738tee+2V2trajB8/PnfccceLvv/Xv/519ttvv7Rr1y59+/bN+9///qxatWoPrWVP+9hJI9OnU23qVm/K926ZXfQcAAAAeA4Bq4W7/PLL87GPfSyf/exn89BDD2XChAk5+eSTU1dX97zvv/POO3PGGWfkzDPPzPTp0/P73/8+DzzwQM4666w9vJw9pUNNVf7rlDFJkktuezKzl28oeBEAAAA8m4DVwn3961/PmWeembPOOit77713Lr744gwcODCXXHLJ877/3nvvzZAhQ3Leeedlr732ylFHHZUPfvCDmTx58h5ezp702nF9ctyonmnY3pT/vOrRNDU1FT0JAAAAdqoqegC7z9atWzNlypRccMEFz3p94sSJufvuu5/3a4444oh89rOfzXXXXZeTTz45y5cvzxVXXJHXv/71L/h/p76+PvX19Tt/vW7duiRJQ0NDGhoadsF3sns8s62cN+5J//G6Ubn7yVW5Z86q/GHKgrxpv75FT2r1nFHKnTNKuXNGaQ6cU8pdczmj5b6PV6/U5FKLFmvx4sXp379/7rrrrhxxxBE7X//Sl76Un//855k1a9bzft0VV1yR97///dmyZUu2bduWN77xjbniiitSXV39vO///Oc/nwsvvPA5r//mN79Ju3btds03wx5x48JS/rygMh2qm/LZ/benncQNAAA0A5s2bcq73/3urF27Np06dSp6DruBfz1tBUql0rN+3dTU9JzXnjFjxoycd955+dznPpfXvOY1WbJkST71qU/l7LPPzk9+8pPn/ZpPf/rTOf/883f+et26dRk4cGAmTpxY1j84GhoaMmnSpJx00kkvGOdamxO3NWbmd+/JnJUb80hpSC583ZiiJ7Vqzijlzhml3DmjNAfOKeWuuZzRZ+4EouUSsFqwHj16pLKyMkuXLn3W68uXL0/v3r2f92suuuiiHHnkkfnUpz6VJNl3333Tvn37TJgwIV/84hfTt+9zbyurqalJTU3Nc16vrq4u6x9wz2guO/eE6urkf96yT971o3tz2QML846DBuWAQV2LntXqOaOUO2eUcueM0hw4p5S7cj+j5byNXcND3FuwNm3aZPz48Zk0adKzXp80adKzbin8e5s2bUpFxbOPRWVlZZJ4sHcrcfiw7nnrAf3T1JR89o+PZtv2xqInAQAA0MoJWC3c+eefnx//+Mf56U9/mpkzZ+bjH/946urqcvbZZyfZcfvfGWecsfP9p5xySq688spccsklmTNnTu66666cd955OeSQQ9KvX7+ivg32sM+8fu90qq3KjCXr8ot75hc9BwAAgFbOLYQt3GmnnZZVq1blC1/4QpYsWZJx48bluuuuy+DBg5MkS5YsSV1d3c73v+9978v69evzne98J5/4xCfSpUuXHH/88fnyl79c1LdAAXp0qMm/nzw6n/3jo/najbPyun36pk/n2qJnAQAA0EoJWK3AOeeck3POOed5/9mll176nNfOPffcnHvuubt5FeXuXQcPyhVTFuahujX5wrXT871/GV/0JAAAAFoptxACz6uiopQvvnlcKitKue6RpblpxrKiJwEAANBKCVjACxrbr3POOmqvJMl/Xv1o1m9pKHgRAAAArZGABbyoj504MoO6tcuStVvyfzfMKnoOAAAArZCABbyotm0q8z9vGZck+cW98zNl/lMFLwIAAKC1EbCAf2rCiJ5564H909SUfPrKh7N1W2PRkwAAAGhFBCzgJfmP149Jt/Zt8viyDfnBbU8WPQcAAIBWRMACXpJu7dvkc28YkyT59s2z8+SKDQUvAgAAoLUQsICX7E3798vRI3tm6/bGfPrKR9LY2FT0JAAAAFoBAQt4yUqlUv7nzePStroy989dncsnLyh6EgAAAK2AgAW8LAO7tcsnJo5MknzpuplZvm5LwYsAAABo6QQs4GV73xFDsk//zlm/ZVsuvGZG0XMAAABo4QQs4GWrqqzI/75tn1RWlPLnR5Zk0oxlRU8CAACgBROwgFdkbL/OOWvCXkmS/7jqkazd3FDwIgAAAFoqAQt4xT5+4sjs1aN9lq2rz5f+PLPoOQAAALRQAhbwitVWV+Yrb983pVJy+eQFuf3xFUVPAgAAoAUSsIBX5eAh3fLew4ckST595SPZUL+t2EEAAAC0OAIW8Kp96jWjMrBb2yxaszn/+xe3EgIAALBrCVjAq9a+pir/+9Z9kyS/urcudz+5suBFAAAAtCQCFrBLHDm8R951yKAkyQV/eCSbtrqVEAAAgF1DwAJ2mc+8bnT6dq5N3epN+eoNs4qeAwAAQAshYAG7TMfa6lz01n2SJJfePS+T560ueBEAAAAtgYAF7FLHjuqVt48fkKam5N+ueDhbGrYXPQkAAIBmTsACdrn/fP2Y9OpYkzkrN+YbNz1e9BwAAACaOQEL2OU6t6vO/7xlx62EP7p9TqYuWFPsIAAAAJo1AQvYLU4a0ztv3K9fGpuST/5+mlsJAQAAeMUELGC3ufCNY9OzY01mL9+Qr93oUwkBAAB4ZQQsYLfp2r5NLnr6VsIf3zk398/1qYQAAAC8fAIWsFudOKZ33vH0pxJ+8vfTsrF+W9GTAAAAaGYELGC3+9wpY9K/S9vUrd6UL103s+g5AAAANDMCFrDbdaytzlfevm+S5Nf31eW2x1cUvAgAAIDmRMAC9ogjh/fIew8fnCT59yseztrNDQUvAgAAoLkQsIA95oKT985ePdpn6botufCa6UXPAQAAoJkQsIA9pm2byvzfO/ZNRSm58sFFuWH60qInAQAA0AwIWMAeNX5wt/zr0cOSJJ+58pGs2lBf8CIAAADKnYAF7HEfP2lERvXumFUbt+azf3w0TU1NRU8CAACgjAlYwB5XU1WZr526X6oqSrl++tJcPXVx0ZMAAAAoYwIWUIhx/TvnvBNGJEn+8+pHs/CpTQUvAgAAoFwJWEBhzjl2WA4Y1CXrt2zLJ343Ldsb3UoIAADAcwlYQGGqKity8Wn7p32bytw3d3V+ePucoicBAABQhgQsoFCDu7fPf71xbJLk65Nm5dFFawteBAAAQLkRsIDCvWP8gLx2bJ80bG/KR3/7UDZv3V70JAAAAMqIgAUUrlQq5Utv3Se9OtbkyRUb879/mVn0JAAAAMqIgAWUhW7t2+Sr79gvSfLze+bnllnLC14EAABAuRCwgLJxzMieed8RQ5Ikn/r9w1m1ob7YQQAAAJQFAQsoKxecPDoje3fIyg31ueDKR9LU1FT0JAAAAAomYAFlpba6MhefdkDaVFZk0oxlufyBBUVPAgAAoGACFlB2xvTrlE++ZmSS5MJrZmTuyo0FLwIAAKBIAhZQls46amgOH9o9mxu256O/fShbtzUWPQkAAICCCFhAWaqoKOVrp+6Xzm2r8/DCtfnajbOKngQAAEBBBCygbPXr0jZfefu+SZIf3D4ntz2+ouBFAAAAFEHAAsraa8b2yemHDU6SfOJ3U7NifX3BiwAAANjTBCyg7H329XtndJ+OWblha87/3dQ0NjYVPQkAAIA9SMACyl5tdWW+/a4DUltdkTueWJkf3zmn6EkAAADsQQIW0CyM6N0xn3vD2CTJV66flWkL1hQ7CAAAgD1GwAKajXcdMjCv26dPtjU25bzfPpT1WxqKngQAAMAeIGABzUapVMpFb9k3/bu0zfxVm/KfVz2apibPwwIAAGjpBCygWencrjrfetf+qawo5aqpi3Plg4uKngQAAMBuJmABzc74wd3ysRNGJEn+8+pHM2fFhoIXAQAAsDsJWECzdM5xw3PY0G7ZtHV7PvKbh7KlYXvRkwAAANhNBCygWaqsKOXi0w5It/ZtMmPJuvz3tTOKngQAAMBuImABzVafzrX5xmn7p1RKfn1fXf40bXHRkwAAANgNBCygWTtmZM98+NjhSZJP/+Fhz8MCAABogQQsoNn72Ikjcuhe3bJx6/ac8+sHPQ8LAACghRGwgGavqrIi337XAenRoU0eW7o+F14zvehJAAAA7EICFtAi9OpUm2++84CUSsll9y/IVQ8tKnoSAAAAu4iABbQYRw7vkfOOH5Ek+cwfH8ns5Z6HBQAA0BIIWECLct4JI3LEsO7ZtHV7PvzrB7N5q+dhAQAANHcCFtCiVFaUcvE790+PDjWZtWx9Pnf1o0VPAgAA4FUSsIAWp1fH2nzrXfunopT8fsrCXDFlYdGTAAAAeBUELKBFOmJYj3zsxJFJkv+46pHMXLKu4EUAAAC8UgIW0GJ95LjhOWZkz2xpaMzZv5qStZsbip4EAADAKyBgAS1WRUUpF5+2f/p3aZv5qzblE7+bmsbGpqJnAQAA8DIJWECL1rV9m3z/PePTpqoiN81cnktue7LoSQAAALxMAhbQ4u0zoHO++KZxSZL/u3FWbn98RcGLAAAAeDkELKBVOPXggXnnwQPT1JR89LcPZeFTm4qeBAAAwEskYAGtxuffODb79O+cpzY15JxfP5gtDduLngQAAMBLIGABrUZtdWUuec+B6dKuOg8vXJsLr5le9CQAAABeAgELaFUGdG2Xb73zgJRKyWX3L8jvHlhQ9CQAAAD+CQELaHWOHtkz5584MknyH1c/mkcXrS14EQAAAC9GwAJapQ8fNzwnjO6Vrdsa88FfTsnqjVuLngQAAMALELCAVqmiopSvn7Z/Bndvl0VrNucjv3kw27Y3Fj0LAACA5yFgAa1W57bV+eHpB6Vdm8rc/eSqfOm6x4qeBAAAwPMQsIBWbVSfjvn6qfslSX5619z8YcrCghcBAADwjwQsoNV77bi+Oe/44UmST//xkUxdsKbYQQAAADyLgAWQ5GMnjsyJe/fO1m2NOfuXU7J8/ZaiJwEAAPA0AQsgOx7q/o3T9suwnu2zdN2WnPOrB7N1m4e6AwAAlAMBC+BpHWur86MzDkrH2qpMnv9UPn/N9KInAQAAEAEL4FmG9uyQb73zgJRKyW/uq8uv75tf9CQAAIBWT8AC+AfHje6VT71mVJLk83+angfmrS54EQAAQOsmYAE8jw8dMyyv37dvGrY35UO/ejCL12wuehIAAECrJWABPI9SqZSvvn3f7N23U1ZuqM9ZP5+cTVu3FT0LAACgVRKwAF5AuzZV+dEZ49OjQ5vMWLIuH798ahobm4qeBQAA0OoIWAAvYkDXdvnB6ePTprIiN0xflq9NmlX0JAAAgFZHwAL4J8YP7pYvv32fJMl3b3kyVz64sOBFAAAArYuABfASvOWAAfnwccOSJBf84ZFMme+TCQEAAPYUAQvgJfrESaPymrG9s3V7Y/71F1Oy8KlNRU8CAABoFQQsgJeooqKUb5y2f8b07ZRVG7fmrJ9PzoZ6n0wIAACwuwlYAC9DuzZV+fF7D0rPjjV5bOn6fPSyh7LdJxMCAADsVgIWwMvUr0vb/OiMg1JTVZG/PrY8X7n+saInAQAAtGgCFsArsP/ALvnqO/ZLkvzg9jm5/IG6ghcBAAC0XAIWwCv0xv365bwTRiRJPvvHR3PnEysLXgQAANAyCVgAr8LHTxyRN+3fL9sam/KhX03JrKXri54EAADQ4ghYAK9CqVTKV96+bw4Z0i3r67fl/T+7P8vWbSl6FgAAQIsiYAG8SjVVlfnhGeMztGf7LF67JWf+/IFsrN9W9CwAAIAWQ8AC2AW6tGuTS993SLq3b5NHF63LeZc9lO2NTUXPAgAAaBEELIBdZFD3dvnRew9KTVVF/vrY8lx4zfQ0NYlYAAAAr5aABbALHTioay4+bf+USskv7pmfn9w5t+hJAAAAzZ6ABbCLnbxP33zm5L2TJP9z3cxc/+iSghcBAAA0bwIWwG5w1oS9cvphg9PUlHz0t1PzUN1TRU8CAABotgQsgN2gVCrlv04Zk+NG9Uz9tsac9fPJmbdyY9GzAAAAmiUBC2A3qaqsyHfefWDG9uuUVRu35r0/uz8r1tcXPQsAAKDZEbAAdqP2NVX52fsPzsBubTN/1aZ84NIHsrF+W9GzAAAAmhUBC2A369WxNr/4wKHp1r5NHlm0Nmf/akq2bmssehYAAECzIWAB7AF79Wifn77v4LStrswdT6zMv//h4TQ2NhU9CwAAoFkQsAD2kP0Hdsn33nNgKitK+eNDi/LlGx4rehIAAECzIGAB7EHHjeqV/33rPkmSH9w2Jz+9c27BiwAAAMqfgAWwh73joIH51GtGJUn++88zcs20xQUvAgAAKG8CFkABzjl2WM44fHCampJP/G5a7n5yZdGTAAAAypaABVCAUqmU/zplbE4e1ydbtzfmg7+YkumL1xY9CwAAoCwJWAAFqawo5Run7Z9D9uqW9fXb8t6fPpC5KzcWPQsAAKDsCFgABaqtrsyPzjgoe/ftlJUb6vOeH9+XpWu3FD0LAACgrAhYAAXr3LY6v/jAIRnSvV0Wrdmc9/zkvqzeuLXoWQAAAGVDwAIoAz071uRXZx2aPp1qM3v5hrz/Z/dnQ/22omcBAACUBQELoEwM6NouvzrrkHRtV51pC9fmnN9MTUNj0asAAACKJ2ABlJHhvTrm5x84JO3bVOaeOavz88crsm27igUAALRuAlYr8L3vfS977bVXamtrM378+Nxxxx0v+v76+vp89rOfzeDBg1NTU5Nhw4blpz/96R5aC+w7oEt+9N6D0qaqIo88VZHPXj0jjY1NRc8CAAAojIDVwl1++eX52Mc+ls9+9rN56KGHMmHChJx88smpq6t7wa859dRT89e//jU/+clPMmvWrFx22WUZPXr0HlwNHDGsR7556r6pSFOufGhxvvjnmWlqErEAAIDWqaroAexeX//613PmmWfmrLPOSpJcfPHFueGGG3LJJZfkoosues77r7/++tx2222ZM2dOunXrliQZMmTInpwMPO3EvXvlXcMb8+vZlfnpXXPTpV11zjthRNGzAAAA9jgBqwXbunVrpkyZkgsuuOBZr0+cODF33333837Nn/70pxx00EH5yle+kl/+8pdp37593vjGN+a///u/07Zt2+f9mvr6+tTX1+/89bp165IkDQ0NaWho2EXfza73zLZy3kjr1tDQkEN6NmXQsOG56IbZ+fqkx1NTmXzgyCFFT4Mkfo5S/pxRmgPnlHLXXM5oue/j1ROwWrCVK1dm+/bt6d2797Ne7927d5YuXfq8XzNnzpzceeedqa2tzR//+MesXLky55xzTlavXv2Cz8G66KKLcuGFFz7n9RtvvDHt2rV79d/IbjZp0qSiJ8CL6rPusbxuYCnXLajMRdc/ntmzZuaoPm4npHz4OUq5c0ZpDpxTyl25n9FNmzYVPYHdTMBqBUql0rN+3dTU9JzXntHY2JhSqZRf//rX6dy5c5IdtyG+/e1vz3e/+93nvQrr05/+dM4///ydv163bl0GDhyYiRMnplOnTrvwO9m1GhoaMmnSpJx00kmprq4ueg48x9+f0ZOrqjLoptn5/u1z8/u5lTlw/7F5+4H9i55IK+fnKOXOGaU5cE4pd83ljD5zJxAtl4DVgvXo0SOVlZXPudpq+fLlz7kq6xl9+/ZN//79d8arJNl7773T1NSUhQsXZsSI5z5/p6amJjU1Nc95vbq6uqx/wD2jueyk9XrmjP77yXunfntTfnbXvHzmqulpV1OdN+0vYlE8P0cpd84ozYFzSrkr9zNaztvYNXwKYQvWpk2bjB8//jmXek6aNClHHHHE837NkUcemcWLF2fDhg07X3v88cdTUVGRAQMG7Na9wIsrlUr53BvG5N2HDkpTU3L+76bl+kef/3ZgAACAlkTAauHOP//8/PjHP85Pf/rTzJw5Mx//+MdTV1eXs88+O8mO2//OOOOMne9/97vfne7du+f9739/ZsyYkdtvvz2f+tSn8oEPfOAFH+IO7DmlUilffNO4vPXA/tne2JRzL3swt8xaXvQsAACA3cothC3caaedllWrVuULX/hClixZknHjxuW6667L4MGDkyRLlixJXV3dzvd36NAhkyZNyrnnnpuDDjoo3bt3z6mnnpovfvGLRX0LwD+oqCjlK2/bN/XbGvPnh5fk7F9Oyc/ed3COGN6j6GkAAAC7hYDVCpxzzjk555xznvefXXrppc95bfTo0WX/CRPQ2lVVVuTi0/bP1m2NmTRjWc78+eT84sxDcvCQbkVPAwAA2OXcQgjQTFVXVuQ77z4gR4/smc0N2/P+nz2QqQvWFD0LAABglxOwAJqxmqrK/OA943PY0G7ZUL8tp//kvkwTsQAAgBZGwAJo5tq2qcxP3ntwDhnSLeu3bMt7RCwAAKCFEbAAWoD2NVX52fsPzsFDuopYAABAiyNgAbQQ7Wuqcun7DxGxAACAFkfAAmhBRCwAAKAlErAAWpgdtxM+O2I9vHBN0bMAAABeMQELoAXq8HTEOmjwjoj1Lz8WsQAAgOZLwAJooTrUVOXSD4hYAABA8ydgAbRgzxexpnomFgAA0MwIWAAt3D9GrPf8+L48MG910bMAAABeMgELoBV4JmIdule3bKjfljN+cn/unr2y6FkAAAAviYAF0Ep0qKnKpe8/JBNG9Mjmhu15/6UP5NZZy4ueBQAA8E8JWACtSNs2lfnRGQflxL17pX5bY/7fLybnxulLi54FAADwogQsgFamtroy3/uX8XndPn3SsL0p5/z6wVz78OKiZwEAALwgAQugFWpTVZFvvfOAvOWA/tnW2JTzLnsof5iysOhZAAAAz0vAAmilqior8n/v2C/vPHhgGpuST14xLb+5r67oWQAAAM8hYAG0YpUVpXzpLfvkjMMHp6kp+cwfH8nP7ppb9CwAAIBnEbAAWrmKilIufOPY/OvRQ5MkF14zI9/+6xNpamoqeBkAAMAOAhYAKZVK+fTJo3PeCSOSJF+b9Hj+588zRSwAAKAsCFgAJNkRsc4/aWT+8w1jkiQ/vnNu/u2Kh7Nte2PBywAAgNZOwALgWc48aq989e37pqKU/H7KwnzkNw+lftv2omcBAACtmIAFwHO846CBueQ949OmsiLXT1+aD1z6QDbWbyt6FgAA0EoJWAA8r9eM7ZOfvf/gtGtTmbtmr8q//Pi+rNm0tehZAABAKyRgAfCCjhzeI7/5f4elS7vqTF2wJqf+4J4sW7el6FkAAEArI2AB8KL2H9glv/vg4endqSaPL9uQt3//7sxftbHoWQAAQCsiYAHwT43s3TFXnH1EBndvlwWrN+ft378nMxavK3oWAADQSghYALwkA7u1y+/PPjyj+3TMivX1Oe0H9+Tu2SuLngUAALQCAhYAL1mvjrW5/IOH59C9umV9/ba892f355ppi4ueBQAAtHACFgAvS+e21fn5Bw7J6/bpk4btTTn3sofy0zvnFj0LAABowQQsAF622urKfPtdB+a9hw9Oknzh2hm56LqZaWxsKngZAADQEglYALwilRWlfP6NY/Nvrx2VJPnB7XPyid9Py9ZtjQUvAwAAWhoBC4BXrFQq5Zxjh+erb983lRWl/PGhRTnz5w9kQ/22oqcBAAAtiIAFwKv2joMG5sfvPShtqytzxxMr864f3psV6+uLngUAALQQAhYAu8Rxo3rlsn89LN3at8kji9bmbZfcnTkrNhQ9CwAAaAEELAB2mf0HdskVZx+eAV3bpm71prz1krvzwLzVRc8CAACaOQELgF1qaM8O+eM5R2a/AZ2zZlND/uVH9+XqqYuKngUAADRjAhYAu1zPjjX57b8enoljemfr9sZ89LdT891bZqepqanoaQAAQDMkYAGwW7RtU5lL3jM+HzhyryTJV2+YlQv+8EgatjcWvAwAAGhuBCwAdpvKilI+d8qYXPjGsakoJZdPXpAPXPpA1m1pKHoaAADQjAhYAOx27z1iSH54+kFpW12ZO55YmXdcck8Wrdlc9CwAAKCZELAA2CNOHNM7vz/78PTqWJNZy9bnLd+9K48uWlv0LAAAoBkQsADYY8b175w/fvjIjOrdMcvX1+cd378nN05fWvQsAACgzAlYAOxR/bu0ze8/dHgmjOiRzQ3b88FfTckltz7pEwoBAIAXJGABsMd1qq3OT993cE4/bHCampIvX/9YPvH7aanftr3oaQAAQBkSsAAoRHVlRf77zePyhTeNTWVFKVc+uCjv/tF9WbmhvuhpAABAmRGwACjUGYcPyaXvPzidaqsyZf5TedN37srMJeuKngUAAJQRAQuAwk0Y0TN//PCR2atH+yxaszlvu+RuD3cHAAB2ErAAKAvDenbIH885IkcO755NWz3cHQAA+BsBC4Cy0aVdm1z6/kPynsMGebg7AACwk4AFQFmprqzIF9+8z7Me7v7OH96bZeu2FD0NAAAoiIAFQFn6+4e7P1S3Jm/49p2ZMv+pomcBAAAFELAAKFsTRvTMnz5yVEb27pAV6+vzzh/ek8vuryt6FgAAsIcJWACUtSE92ufKc47Ma8f2ScP2pnz6ykfy2T8+kq3bGoueBgAA7CECFgBlr0NNVS55z4H55MSRKZWSX99Xl3f/6N4sX++5WAAA0BoIWAA0C6VSKR85fkR+8t6D0rGmKpPnP5U3fvuuTF2wpuhpAADAbiZgAdCsHD+6d676yJEZ1rN9lq7bklO/f09+N3lB0bMAAIDdSMACoNkZ1rNDrvrwkTlpTO9s3d6Yf7vi4Xzu6kc9FwsAAFooAQuAZqljbXV+8J7x+diJI5Ikv7hnft75w3uyZO3mgpcBAAC7moAFQLNVUVHKx04cmR+fcVA61lblwbo1ecO37sxds1cWPQ0AANiFBCwAmr0Tx/TOtecelb37dsqqjVtz+k/uy3dvmZ3GxqaipwEAALuAgAVAizC4e/v88Zwj8vbxA9LYlHz1hln5119OztrNDUVPAwAAXiUBC4AWo7a6Ml99+77537fukzZVFblp5vKc8u07M33x2qKnAQAAr4KABUCLUiqV8s5DBuUPZx+RAV3bpm71prz1e3fn95MXFD0NAAB4hQQsAFqkfQZ0zrXnHpXjRvVM/bbGfOqKh/PpKx/OlobtRU8DAABeJgELgBarS7s2+cl7D84nThqZUim57P4Fedsld2fuyo1FTwMAAF4GAQuAFq2iopRzTxiRX3zgkHRr3ybTF6/LKd++M3+atrjoaQAAwEskYAHQKkwY0TPXnTchhwzplg3123LeZQ/l01c+4pZCAABoBgQsAFqNPp1r85v/d2jOPX7407cU1uXN370rs5dvKHoaAADwIgQsAFqVqsqKfGLiqPziA4ekR4c2eWzp+rzxO3fmygcXFj0NAAB4AQIWAK3SM7cUHjGsezZt3Z7zfzctn/r9tGzauq3oaQAAwD8QsABotXp1qs0vzzw0Hz9xZCpKye+nLMybvnNXHl+2vuhpAADA3xGwAGjVKitK+eiJI/Lrsw5Lr441eWL5hrzxO3fmt/fXpampqeh5AABABCwASJIcPqx7rvvohEwY0SNbGhpzwZWP5JxfP5g1m7YWPQ0AAFo9AQsAntajQ01+/v5D8pnXjU51ZSl/eXRpTv7mHbnnyVVFTwMAgFZNwAKAv1NRUcq/Hj0sV37oyAzt0T5L1m7Ju398b756w2Np2N5Y9DwAAGiVBCwAeB77DOica887Ku88eGCampLv3vJk3v79ezJv5caipwEAQKsjYAHAC2jXpir/+7Z9c8m/HJjObaszbcGavP5bd+SKKQs94B0AAPYgAQsA/omT9+mbv3x0Qg7dq1s2bt2eT/5+Ws777dSs3dxQ9DQAAGgVBCwAeAn6dWmb3/y/w/Kp14xKZUUp10xbnNd9847cP3d10dMAAKDFE7AA4CWqrCjlw8cNzxVnH55B3dpl0ZrNOe2H9+Siv8xM/bbtRc8DAIAWS8ACgJfpgEFdc91HJ+TUgwakqSn5wW1z8qbv3JUZi9cVPQ0AAFokAQsAXoEONVX5ytv3yw9PH5/u7dvksaXr86bv3pnv3To72xs94B0AAHYlAQsAXoWJY/vkho8fnYljeqdhe1O+cv2snPaDezJ/1caipwEAQIshYAHAq9SjQ01+cPr4fPXt+6ZDTVUmz38qJ3/zjvzmvro0NbkaCwAAXi0BCwB2gVKplHccNDDXf2xCDhvaLZu2bs9n/vhIzvz55Cxfv6XoeQAA0KwJWACwCw3o2i6/Oeuw/Mfr906bqorc/NjyvOYbt+fPDy8pehoAADRbAhYA7GIVFaWcNWForj33qIzt1ylPbWrIh3/zYM759ZSs3FBf9DwAAGh2BCwA2E1G9u6YP55zZM47YUSqKkq57pGlmfiN23PNtMWejQUAAC+DgAUAu1Gbqoqcf9LIXPXhI7N3305ZvXFrzr3soXzoVw9mxXpXYwEAwEshYAHAHjCuf+dc/eEj87ETd1yNdf30pZn4jdty9dRFrsYCAIB/QsACgD2kTVVFPnbiyFz9kSMzpu+OZ2N99LdT88FfTvFJhQAA8CIELADYw8b265yrP3Jkzj9pZKorS7lxxrJM/MbtueohV2MBAMDzEbAAoADVlRU574QR+dNHdnxS4ZpNDfnY5VPz/34xOUvWbi56HgAAlBUBCwAKtHffTrnqw0fmE09fjXXTzOU56eu355f3zk9jo6uxAAAgEbAAoHDVlRU594QRufbcCTlgUJdsqN+W/7zq0Zz6g3vyxLL1Rc8DAIDCCVgAUCZG9emYK84+Ihe+cWzat6nM5PlP5XXfuiMX3/R46rdtL3oeAAAURsACgDJSWVHKe48YkknnH5MTRvdKw/amXHzTE3n9t+7MlPmri54HAACFELAAoAz169I2P37vQfn2uw5Ijw5tMnv5hrz9+/fkc1c/mvVbGoqeBwAAe5SABQBlqlQq5ZT9+uWm84/JO8YPSFNT8ot75uekr9+eSTOWFT0PAAD2GAELAMpcl3Zt8tV37Jdfn3VoBndvl6XrtuT//WJyzv7llCxZu7noeQAAsNsJWADQTBw5vEeu/+jROfuYYamsKOX66Utz4tduy4/vmJNt2xuLngcAALuNgAUAzUjbNpW54OTRufbcozJ+cNds3Lo9X/zzzLzh23dmyvynip4HAAC7hYAFAM3Q3n075fcfPDxffts+6dKuOo8tXZ+3XXJ3Pn3lw1mzaWvR8wAAYJcSsACgmaqoKOW0gwfl5k8cm3eMH5Akuez+BTn+a7fliikL09TUVPBCAADYNQQsAGjmurXf8ZD33599eEb27pDVG7fmk7+fltN+eG+eWLa+6HkAAPCqCVgA0EIcPKRb/nzehFxw8ui0ra7M/XNX5+Rv3pEvX/9YNm3dVvQ8AAB4xQQsAGhBqisrcvYxwzLp/KNz0pje2dbYlEtufTInfO22XDNtsdsKAQBolgQsAGiBBnRtlx+dcVB+dMZBGditbZas3ZJzL3so7/rRvZm11G2FAAA0LwIWALRgJ43pnUkfPyYfP3Fkaqoqcu+c1Xndt+7I5/80PWs3NxQ9DwAAXhIBCwBauNrqynz0xBH56yeOycnj+mR7Y1MuvXtejv+/W3P5A3VpbHRbIQAA5U3AAoBWYkDXdrnkPePzqzMPzfBeHbJq49b8+x8eyVu+d1emLlhT9DwAAHhBAhYAtDJHjeiRv3x0Qv7j9XunQ01Vpi1cmzd/96782xXTsnJDfdHzAADgOQQsAGiFqisrctaEobn5k8fkrQf2T5L8bvLCHPd/t+bHd8zJ1m2NBS8EAIC/EbAAoBXr1bE2Xz91//zhQ4dnXP9OWb9lW77455mZ+I3bcsP0pWlq8nwsAACKJ2ABABk/uFuu/vBR+crb9k2PDjWZt2pTPvjLKXn3j+7L9MVri54HAEArJ2ABAEmSyopSTj14YG791LH58HHD0qaqIvfMWZU3fPvO/PsVD2f5+i1FTwQAoJUSsACAZ+lQU5VPvWZ0/nr+MXnDvn3T1JRcPnlBjvvqrfnuLbOzpWF70RMBAGhlBCwA4HkN7NYu33n3gfnDhw7PfgO7ZOPW7fnqDbNywtduyzXTFns+FgAAe0xV0QMAgPI2fnC3/PFDR+TqaYvy5b/MyqI1m3PuZQ/lwEFdckynotcBANAauAILAPinKipKecsBA3LLJ4/Nx08cmbbVlXmwbk2+8WhVzv3ttMxdubHoiQAAtGACFgDwkrVtU5mPnjgit3zy2LztwH4ppSnXT1+Wk75+Wz539aNZuaG+6IkAALRAAhYA8LL16Vyb/33LuPzbvttzzMge2dbYlF/cMz/HfOWWfOuvT2TT1m1FTwQAoAURsACAV6xf++THpx+Y35x1aPbp3zkbt27P1yc9nmO/emsuu78u27Y3Fj0RAIAWQMACAF61I4b3yNUfPjLffOf+GditbZavr8+nr3wkr/3mHZk0Y5lPLAQA4FURsFqB733ve9lrr71SW1ub8ePH54477nhJX3fXXXelqqoq+++//+4dCECLUFFRypv275+bzj8m//mGMenSrjqzl2/I//vF5Jz2g3vzYN1TRU8EAKCZErBauMsvvzwf+9jH8tnPfjYPPfRQJkyYkJNPPjl1dXUv+nVr167NGWeckRNOOGEPLQWgpaipqsyZR+2V2z51XD507LDUVFXk/nmr89bv3Z3/94vJeWzpuqInAgDQzAhYLdzXv/71nHnmmTnrrLOy99575+KLL87AgQNzySWXvOjXffCDH8y73/3uHH744XtoKQAtTee21fn3147OLZ88Nu8YPyAVpWTSjGU5+Zt35GO/fSjzV20seiIAAM1EVdED2H22bt2aKVOm5IILLnjW6xMnTszdd9/9gl/3s5/9LE8++WR+9atf5Ytf/OI//b9TX1+f+vq/fWz6unU7/pf1hoaGNDQ0vML1u98z28p5I62bM0q5e6lntGf7qnzpzWPygSMG5Zs3P5nrpy/LVVMX59qHl+Tt4/vnw8cOTZ9OtXtiMq2Mn6M0B84p5a65nNFy38erJ2C1YCtXrsz27dvTu3fvZ73eu3fvLF269Hm/5oknnsgFF1yQO+64I1VVL+14XHTRRbnwwguf8/qNN96Ydu3avfzhe9ikSZOKngAvyhml3L2cM3pyp2TcPsmfF1Rk5pqK/PaBhfnD5AWZ0KcpJ/RvTIfq3TiUVsvPUZoD55RyV+5ndNOmTUVPYDcTsFqBUqn0rF83NTU957Uk2b59e9797nfnwgsvzMiRI1/y7//pT386559//s5fr1u3LgMHDszEiRPTqVOnVz58N2toaMikSZNy0kknpbravzFRfpxRyt2rOaMfTHL/vNX5+qTZmVK3JjcvKeW+1dU584ghed8Rg9Ox1h9RePX8HKU5cE4pd83ljD5zJxAtlz8dtmA9evRIZWXlc662Wr58+XOuykqS9evXZ/LkyXnooYfykY98JEnS2NiYpqamVFVV5cYbb8zxxx//nK+rqalJTU3Nc16vrq4u6x9wz2guO2m9nFHK3Ss9o0eO6J0jhvfKrY+vyFevn5UZS9blW7c8mV/eV5dzjh2e0w8fnNrqyt2wmNbGz1GaA+eUclfuZ7Sct7FreIh7C9amTZuMHz/+OZd6Tpo0KUccccRz3t+pU6c88sgjmTp16s6/zj777IwaNSpTp07NoYceuqemA9BKlEqlHDeqV64996h8990HZmjP9nlqU0P+57qZOfort+Rnd83NlobtRc8EAKBgrsBq4c4///ycfvrpOeigg3L44Yfnhz/8Yerq6nL22Wcn2XH736JFi/KLX/wiFRUVGTdu3LO+vlevXqmtrX3O6wCwK1VUlPL6ffvmNWN758qHFuWbNz2RRWs258JrZuT7tz2ZDx0zLO88ZJArsgAAWikBq4U77bTTsmrVqnzhC1/IkiVLMm7cuFx33XUZPHhwkmTJkiWpq6sreCUA7FBVWZFTDxqYN+/fP7+fsiDfvXl2Fq/dks9fMyPfv21OzjluWE47eGBqqoQsAIDWxC2ErcA555yTefPmpb6+PlOmTMnRRx+9859deumlufXWW1/waz//+c9n6tSpu38kAPydNlUV+ZdDB+eWTx2bL755XPp2rs3SdVvyuaun59iv3ppf3js/9dvcWggA0FoIWABA2aqpqsx7DhucWz91bP77TWPTp1Ntlqzdkv+86tEc99Vb8+v75mfrtsaiZwIAsJsJWABA2aupqszphw/JrZ86Nhe+cWx6d6rJ4rVb8tk/Pprj/u/W/Oa+OiELAKAFE7AAgGajtroy7z1iSG771HH5/Clj0qtjTRat2ZzP/PGRHPvVW/KLe+b51EIAgBZIwAIAmp3a6sq878i9cvu/HZf/ejpkLV674xlZE75yS354+5PZWL+t6JkAAOwiAhYA0GzVVlfm/U+HrP9+87j079I2K9bX50vXPZYjv3xzvvXXJ7J2c0PRMwEAeJUELACg2autrszpTz/s/Stv3zd79WifNZsa8vVJj+eo/705X7n+sazaUF/0TAAAXiEBCwBoMaorK3LqQQNz0/nH5FvvOiCjenfM+vpt+d6tT+aoL9+S/752Rpat21L0TAAAXiYBCwBocSorSnnjfv3yl49OyA9PH599B3TO5obt+cmdczPhy7fks398JAtWbyp6JgAAL1FV0QMAAHaXiopSJo7tk5PG9M4dT6zMd26enfvnrc6v76vLbx9YkDfs2zcfPHpYxvTrVPRUAABehIAFALR4pVIpR4/smaNH9sx9c1blO7fMzh1PrMzVUxfn6qmLc/TInjn76KE5fFj3lEqloucCAPAPBCwAoFU5dGj3HDq0ex5dtDY/uH1O/vzw4tz++Irc/viK7Dugc84+ZlheM7ZPKiuELACAcuEZWABAqzSuf+d8+10H5NZPHpczDh+cmqqKPLxwbc759YM54Wu35tf3zc+Whu1FzwQAIAIWANDKDereLl9407jcfcHxOe+EEenSrjrzVm3KZ//4aI768s357i2zs3ZTQ9EzAQBaNQELACBJ9w41Of+kkbnr34/Pf50yJv27tM3KDVvz1Rtm5Yj//Wu+eO2MLF6zueiZAACtkoAFAPB32tdU5f1H7pVbP3VsvnHafhndp2M2bt2eH985NxO+ckvOu+yhTFuwpuiZAACtioe4AwA8j+rKirzlgAF58/79c+vjK/KD257MvXNW50/TFudP0xbn4CFdc+ZRQ3PSmN4e+A4AsJsJWAAAL6JUKuW4Ub1y3KheeXTR2vz0zrm55uHFeWDeU3lg3pQM6tYu7z9ySN5x0MB0qPFHKwCA3cEthAAAL9G4/p3z9dP2z53/fnw+fNywdGlXnbrVm3LhNTNy+EV/zUXXzfScLACA3UDAAgB4mXp3qs2nXjM691xwQr745nEZ2qN91m/Zlh/cPicTvnJLzr3soUz1nCwAgF3Gde4AAK9Q2zaVec9hg/PuQwblllnL85M75+buJ1flmmmLc820xTlocNd84Ki9MnFM71RV+t8NAQBeKQELAOBVqqgo5YS9e+eEvXtn+uK1+cmdc3PNtMWZPP+pTJ7/VPp2rs17Dhucdx48MN071BQ9FwCg2fE/BQIA7EJj+3XO10/dP3f9+/E59/jh6d6+TZas3ZKv3jArh//vzfnE76blkYVri54JANCsuAILAGA36NWpNp+YOCofOX54/vzwkvz87nmZtnBt/vDgwvzhwYU5cFCXvPeIITl5XN+0qfK/KQIAvBgBCwBgN6qpqsxbDxyQtx44IA/VPZWf3z0vf35kSR6sW5MH66bmix1n5l8OHZR3HzoovTrWFj0XAKAsCVgAAHvIAYO65oBBXfOZ1++dy+5bkF/fNz/L19fn4pueyHdvmZ2Tx/XNe48YkgMHdUmpVCp6LgBA2RCwAAD2sF4da/PRE0fkQ8cOy/XTl+bnd8/LlPlP5U/TFudP0xZnn/6d857DBuWU/fqlXRt/XAMA8CciAICCtKmqyBv365c37tcvjy5am0vvnpc/TVucRxatzb//4ZF88c8z87YDB+Tdhw7KyN4di54LAFAYTwwFACgD4/p3zv+9Y7/c++kT8pnXjc7g7u2yfsu2XHr3vEz8xu059Qf35Oqpi1K/bXvRUwEA9jhXYAEAlJFu7dvkX48elrOOGpq7nlyZX99bl0kzl+X+uatz/9zV6d6+Td5x0MC8+5BBGdS9XdFzAQD2CAELAKAMVVSUMmFEz0wY0TNL127J5Q8syGX312Xpui35/m1P5vu3PZmjR/bMew4dlONH90pVpQvrAYCWS8ACAChzfTrveOj7h48blpsfW55f31eX259Ykdsf3/FXn061eechA/POgwelT+faoucCAOxyAhYAQDNRVVmRiWP7ZOLYPqlbtSm/ub8uv5+8IEvXbcnFNz2Rb/31iRw7qldOO3hgjh/dK9WuygIAWggBCwCgGRrUvV0uOHl0Pn7SiNwwfVl+fe/83Dd3dW5+bHlufmx5enSoydvHD8hpBw/MXj3aFz0XAOBVEbAAAJqxmqrKvHG/fnnjfv0yZ8WG/G7ywlwxZWFWbqjf+aysQ/fqlnceMjAnj+ub2urKoicDALxsAhYAQAsxtGeHXHDy6Hxi4sjc/NjyXP7Agtw6a3num7s6981dnc9dPT1vOaB/Tjt4YMb261z0XACAl0zAAgBoYaorK/KasX3ymrF9smTt5lwxeWEun7wgC5/anF/cMz+/uGd+9unfOacdPDBv3L9fOtVWFz0ZAOBFCVgAAC1Y385tc+4JI/Lh44bn7idX5bcP1OXG6cvyyKK1eWTR2nzxzzPyunF98/bxA3LY0O6pqCgVPRkA4DkELACAVqCiopSjRvTIUSN6ZPXGrfnjQ4vy2/vr8sTyDbnyoUW58qFF6d+lbd52YP+89cABGeLB7wBAGRGwAABamW7t2+TMo/bKB44ckocWrMkVUxbmmmmLs2jN5nzr5tn51s2zc/CQrnn7+AF53T5909EthgBAwQQsAIBWqlQq5cBBXXPgoK753BvGZNKMZbliysLc8cSKPDDvqTww76n815+m57Vj++Rt4wfkiGE9UukWQwCgAAIWAACpra7MKfv1yyn79cuydVvyx4cW5YopCzN7+YZcNXVxrpq6OH071+atB/bP2w4ckKE9OxQ9GQBoRQQsAACepXen2px9zLB88OihmbZwba6YsiB/mro4S9ZuyXdveTLfveXJHDioS942fkDesE+/dG7nFkMAYPcSsAAAeF6lUin7D+yS/Qd2yX+8fkz+OnN5rpiyILc9viIP1q3Jg3VrcuGfZuTYUT3zlgP657jRvVJbXVn0bACgBRKwAAD4p2qrK/P6ffvm9fv2zfJ1W3LV1EW58sFFeWzp+tw4Y1lunLEsHWur8rpxffOmA/rlsL26p8LzsgCAXUTAAgDgZenVqTb/evSw/OvRw/LY0nW56qHF+dPURVm8dksun7wgl09ekL6da/PG/frlzQf0z959OxU9GQBo5gQsAABesdF9OuWCkzvl314zKvfPW52rHlqUPz+yJEvWbskPbp+TH9w+J6N6d8ybD+ifN+3fL/26tC16MgDQDAlYAAC8ahUVpRw2tHsOG9o9n3/j2Nw6a3muemhxbn5seWYtW58vX/9Yvnz9Yzl0r2558wH987pxfT38HQB4yQQsAAB2qdrqyrx2XN+8dlzfrN3UkL88uiRXTV2Ue+eszn1zd/z1X1dPz9Eje+aU/frmxL17p32NP5YCAC/MnxQAANhtOrerzjsPGZR3HjIoi9dszp+mLc5VD+14+PtNM5flppnLUltdkeNH98op+/bzSYYAwPMSsAAA2CP6dWmbs48ZlrOPGZbHl63PtdMW55qHl2Tuyo257pGlue6RpWnfpjInjemdU/brlwkjeqZNVUXRswGAMiBgAQCwx43s3THnTxyVj580MtMXr8s1Dy/OtdOWZNGazblq6uJcNXVxOtVW5bXj+uSU/frl8KHdU1UpZgFAayVgAQBQmFKplHH9O2dc/8654LWj89CCNbl22pJc+/DiLF9fn99NXpjfTV6Y7u3b5OR9+uQN+/bLIUO6paKiVPR0AGAPErAAACgLpVIpBw7qmgMHdc1nX793Hpi3Otc+vDjXPbI0qzZuza/urcuv7q1Lr441OXlcn5y8T98cPKRbKsUsAGjxBCwAAMpOZUUphw3tnsOGds/nTxmbe+asyjXTFuf6R5dm+fr6/Pye+fn5PfPTo0ObTBzbJ68b1zeHDu2WarcZAkCLJGABAFDWqiorMmFEz0wY0TP//eZxuXv2qlz3yJJMmrksKzdszW/uq8tv7qtLl3bVmTimd07ep2+OHNYjrssCgJZDwAIAoNmoqarMcaN75bjRvdKwvTH3zlmV6x5Zmhun77jN8JlnZnWsrcoJo3qmx5ZSTmjYnurq6qKnAwCvgoAFAECzVP33V2a9aWwemPdU/vLokvzl0aVZsb4+V01bkqQyl/3vrTl+79553bg+OWZUz7Rr44/AANDc+G9vAACavarKihw+rHsOH7bjmVkP1j2Va6ctylVT5mfN1u25ZtriXDNtcWqrK3LsyF6ZOLZ3ThjdO53buTILAJoDAQsAgBaloqKUg4Z0y379O2a/pjkZsO8Ruemxlbnu0SVZsHpzrp++NNdPX/r0g+K75aS9e+eksX3Sv0vboqcDAC9AwAIAoMWqKCX7D+ySg4f2zAUnj870xety4/SluXHGsjy2dH3umr0qd81elc9fMyPj+nfKxDF9MnFs74zq3TGlksfAA0C5ELAAAGgVSqVSxvXvnHH9O+f8iaMyf9XGTJqxLDdOX5YH5q/Oo4vW5dFF6/L1SY9nULd2mTimdyaO7ZPxg7umskLMAoAiCVgAALRKg7u3z1kThuasCUOzckN9bp65PDfOWJrbn1iZutWb8uM75+bHd85Nt/ZtcuLevTJxTJ8cNaJHaqsri54OAK2OgAUAQKvXo0NNTj14YE49eGA21m/LHU+syI3Tl+Wvjy3P6o1b87vJC/O7yQvTtroyR4/skRP27p3jR/dKjw41RU8HgFZBwAIAgL/TvqYqrx3XN68d1zcN2xvzwNzVuXHGstw4fWkWr92SG6Yvyw3Tl6VUSvYb0CUnjO6VE/bunb37em4WAOwuAhYAALyA6sqKHDG8R44Y3iP/dcqYTF+8LpNmLMvNjy3PI4vWZuqCNZm6YE2+Nunx9Otcm+P37pUTRvfO4cO6u9UQAHYhAQsAAF6Cv38I/MdPGpll67bk5seW568zl+fO2SuyeO2W/Oreuvzq3rq0ra7MkcN75IS9e+X40b3Su1Nt0fMBoFkTsAAA4BXo3ak27zpkUN51yKBsadiee55clZtm7rg6a8naLblp5rLcNHNZkmSf/p1zwtNXZ43t1ykVPtUQAF4WAQsAAF6l2urKHDe6V44b3StNTU2ZuWR9/jpzx0Pgpy1ck0cWrc0ji9bm4pueSK+ONTluVK8cO6pnjhzRI51qq4ueDwBlT8ACAIBdqFQqZUy/ThnTr1POPWFEVqyvzy2zlufmmctzxxMrsnx9fS6fvCCXT16QqopSDhzcNceO6pljR/byIHgAeAECFgAA7EY9O9bk1IMG5tSDBqZ+2/bcN2d1bp21Irc+vjxzVmzM/XNX5/65q/OV62eld6eaHDOyZ44Z2StHjeiRzm1dnQUAiYAFAAB7TE1VZY4e2TNHj+yZz2VM6lZtym2PL8+ts1bk7idXZdm6+vxu8sL8bvLCVFaUcuCgLjl2VK8cM7Jnxvbr5OosAFotAQsAAAoyqHu7nH74kJx++JBsadieB+Y9fXXWrOV5csXGPDDvqTww76l89YZZ6dlxx9VZx47qmQnDe6ZzO1dnAdB6CFgAAFAGaqsrM2FEz0wY0TP/+YYxWbB6U259fEVum7U8d81elRXr63PFlIW5YsrCVJSSAwZ1zYQRPTJhRI/sN6BLqioriv4WAGC3EbAAAKAMDezWLqcfNjinHzY49du254G5T+XWWctz6+MrMnv5hkyZ/1SmzH8qF9/0RDrWVuWIYd1z1IieOXpEjwzu3r7o+QCwSwlYAABQ5mqqKnPUiB45akSP/EeShU9tyh1PrMydT6zMnbNXZu3mhtwwfVlumL4sSTKwW9sdV3MN75EjhvVwuyEAzZ6ABQAAzcyAru3yrkMG5V2HDMr2xqY8umht7nhiRe54YmUerHsqC1Zvzm/uq8tv7qtLRSnZb2CXTBjeIxNG9sz+A7uk2u2GADQzAhYAADRjlRWl7DewS/Yb2CUfOX5ENtZvy31zV+X2x3dcnTV7+YY8VLcmD9Wtybdunp0ONVU5bGj3nc/P2qtHe59uCEDZE7AAAKAFaV9TleNH987xo3snSZas3Zw7nliZO55Ymbtmr8zqjVtz08xluWnmjtsN+3WuzeHDeuTI4d1zxLAe6dO5tsj5APC8BCwAAGjB+nZum1MPGphTDxqYxsamzFiy7umgtSKT5z2VxWu35A8PLswfHlyYJBnao30OH9Y9Rw7vkcOGdk+39m0K/g4AQMACAIBWo6KilHH9O2dc/8750LHDsnnr9kyevzp3P7kqdz+5Ko8sXJM5KzdmzsqN+fV9dUmSvft2ypHDuueI4d1z8JBu6VjrgfAA7HkCFgAAtFJt21Tu+LTCET2TJGs3N+T+uatz95Mrc/fsVZm1bH1mLlmXmUvW5cd3zt3xvK0BnXPEsB45Ylj3HDi4a2qrKwv+LgBoDQQsAAAgSdK5bXVOGtM7J43Z8fysFevrc++cVU9fobUy81dtyoN1a/Jg3Zp855bZaVNVkYMGd80Rw7rn8GE9su+Azj7hEIDdQsACAACeV8+ONTllv345Zb9+SZKFT23KPU/+LWgtW1e/8/bD5PG0ra7M+MFdc+he3XLo0O7Zb2Dn1FS5QguAV0/AAgAAXpIBXdvlHQe1yzsOGpimpqbMWbkxd89embtmr8p9c1flqU0NuXP2ytw5e2WSpKaqIgcO6ppDh3bLoXt1zwGDurjlEIBXRMACAABetlKplGE9O2RYzw45/fAhaWxsyhPLN+S+uaty35zVuW/uqqzcsDX3zFmVe+asSvJE2lRWZP+BXXLo0G45bGj3HDioa9q2EbQA+OcELAAA4FWrqChlVJ+OGdWnY844fEiampry5IoNuXfO6tw3d3Xum7Mqy9fX5/55q3P/vNX59s2zU11Zyr4Duuy85fCgwV3Tvsa/ogDwXP7bAQAA2OVKpVKG9+qY4b065j2HDU5TU1PmrdqUe+esyn1zVuW+uauzZO2WTJn/VKbMfyrfu/XJVFaUsk//zjl0r245eEi3jB/cNV3btyn6WwGgDAhYAADAblcqlbJXj/bZq0f7vOuQQWlqasqC1Ztz79xVT0et1Vm0ZnOmLliTqQvW5Ae3z0mSjOjVIQcN6ZaDh3TNwUO6ZUDXtimVSgV/NwDsaQIWAACwx5VKpQzq3i6DurfLqQcNTLLjUw7vm7M6D8zb8deTKzbmieUb8sTyDbns/rokSZ9OtTno6Zh10JCuGd2nUyorBC2Alk7AAgAAysKAru0yYHy7vG38gCTJqg31mTz/qUyetzoPzHsqjy5am6XrtuTah5fk2oeXJEk61lTlwMFdc/CQrjloSLfsP9AnHQK0RAIWAABQlrp3qMlrxvbJa8b2SZJs3ro9UxesyeSnHwT/4Pynsr5+W257fEVue3xFkqS6csdztHZcodUtB3mOFkCLIGABAADNQts2lTl8WPccPqx7kmTb9sY8tnT9jiu05j+VB+auzvL19Xmwbk0erPvbc7SG9myfAwd1zfjBXXPgoK4Z0atDKtx2CNCsCFgAAECzVFVZkXH9O2dc/85535F77Xww/APzVmfy/B23Hc5eviFzVmzMnBUbc8WUhUl23Ha4/6AuOXBQ1xw4uGv2H9glndtWF/zdAPBiBCwAAKBF+PsHwz/zHK3VG7fmobqn8mDdU3lw/ppMW7gm6+u35Y4nVuaOJ1Y+/XXJ8J4ddl6hdeDgLhnaw1VaAOVEwAIAAFqsbu3b5IS9e+eEvXsn+dtthzui1po8WPdU5q/atPPTDn/7wIIkSee21Tngmau0BnXNfgM7p2Otq7QAiiJgAQAArcbf33Z4+uE7Xlu5oT4Pzv9b0Hp44Zqs3dyQW2etyK2zdjwcvlRKRvXumAMHd80BA7vkgEGu0gLYkwQsAACgVevRoSYTx/bJxKc/7bBhe2NmLln3rKi18KnNeWzp+jy2dH1+c19dkh3P0tp3YOfsN6BL9h+4469enWqL/FYAWiwBCwAA4O9UV1Zk3wFdsu+ALnnfkTteW75uy47naNWtydS6NXlk0dqsr9+Wu2avyl2zV+382r6da7P/wC7Z7+mgtU//zmlf41+7AF4tP0kBAAD+iV6davPacX3z2nF9k+x4ltbjyzZk2sIdQWvawjV5fNn6LFm7JUvWLs1fHl2aJKkoJSN7d9xxldagLtlvQJeM7N0hVZUVRX47AM2OgAUAAPAyVVVWZEy/ThnTr1PedcigJMnG+m15ZNHaTF2wJtOe/mvx2i07bz28fPKOB8S3ra7MPv07Z7+BnbNPv45ZXZ80NTUV+e0AlD0BCwAAYBdoX1OVw4Z2z2FDu+98bfm6LZm6YM2OqLVwTR5esOPWw/vnrc7981Y//a6qfGfWbdlnQOfs279z9hnQJfsO6JzenqcFsJOABQAAsJv06lT7rAfENzY2Zc7KDZm6YG2mLngqU+vWZMaStVm1ceuzPvUwSXp2rHk6aHXOvgN2fHJir46iFtA6CVgAAAB7SEVFKcN7dczwXh3z9vED0tDQkKuuuS5D9j8iM5dtzCML1+aRRWvz+LL1WbG+Pn99bHn++tjynV/fp1Pt312p1Tn79O+c7h1qCvyOAPYMAQsAAKBAbSqT/Qd2ycFDe+58bfPW7ZmxZG0eWbg2Dy/a8ffZKzZk6botWTpjSybNWLbzvf27tM0+fxe09unfOV3btyniWwHYbQQsAACAMtO2TWXGD+6W8YO77XxtY/22zFiyLg8vXJtHFq7Jw4vWZs6KjVm0ZnMWrdmc66cv3fnegd12RK2x/TpnbL9OGduvc3p2dKUW0HwJWAAAAM1A+5qqHDykWw4e8reotX5LQ6YvXrfzSq1HF63N3JUbs2D15ixYvTnXPfK3qNW7U83fBa0dUWtA17YplUpFfDsAL4uABQAA0Ex1rK1+zicfrt3ckOmLdgSt6YvXZfriHVFr2br6LFu3PDf/3TO1OtVW/S1q9d8RtYb2aJ+qyooivh2AFyRgAQAAtCCd21bniOE9csTwHjtf21i/LY8tXZdHF+0IWtMXr8vjy9Zn3ZZtuWfOqtwzZ9XO99ZUVWR0304Z9/RVWmP7dcqoPh1TW11ZxLcDkETAAgAAaPHa11Q955laW7c15onl6zN98brMWLwujy5am5lL1mXj1u2ZtmBNpi1Ys/O9lRWlDO/ZIWP7dcqYp8PW3n07pks7D4sH9gwBCwAAoBVqU1Xx9BVWnXe+1tjYlHmrNj596+GOq7VmLF6XVRu3Ztay9Zm1bH2ufGjRzvf37Vybvft2yt59O2Z0n07Zu2+n7NWjfSorPFcL2LUELAAAAJIkFRWlDO3ZIUN7dsgp+/VLkjQ1NWXpui2ZvujvotaSdVn41OYsWbslS9ZuedZztWqqKjKqT8fs3adTRvftuCNw9emUzu2qi/q2gBZAwAIAAOAFlUql9O3cNn07t82JY3rvfH3dlobMWro+M5esy8wlO/4+a+n6bG7YnocXrs3DC9c+6/fpt/Nqrb+FrSHdXa0FvDQCFgAAAC9bp9rqHDykWw4e8rfnam1vbErd6k1PR62/ha1FazZn8dotWbx2S/76d1dr1VZXZFTvHTFrdJ+n/963Uzq3dbUW8GwCFgAAALtEZUUpe/Von716tM/r9um78/W1mxvy2JJ1eWznFVvrMmvZ+mxpaMy0hWsz7R+u1urbuTaj+nTMqN4dM7J3x4zq0zHDe3XwSYjQiglYAAAA7Fad21bn0KHdc+jQ7jtf2/70A+NnLlmXx5b8LWwtfvq5WkvWbsmts1bsfH9FKRnSvf3OoDWqz464NaR7u1RVVhTxbQF7kIAFAADAHldZUcqwnh0yrGeHvGHfv72+dlNDHl++PrOWrs/jy9bnsaU7/vPazQ2Zs3Jj5qzcmOunL935/jZVFRnes8POoDWqT4eM6tMp/TrXplTyfC1oKQQsAAAAykbnds99tlZTU1NWrK/PrGU7YtYzcevxZRuyuWF7ZixZlxlL1j3r9+lQU5WRvTv87VbEp//evUPNnv6WgF1AwAIAAKCslUql9OpUm16dajNhRM+drzc2NmXhU5vz2NJ1eXzZ+sxatiGPL12fJ1dsyIb6bXmwbk0erFvzrN+rR4c2GdGrY0b07pARvTpk+NP/uXv7Nq7YgjImYAEAANAsVVSUMqh7uwzq3i4Tx/bZ+frWbY2Zu3JjZi1bn8eXrt955Vbd6k1ZuWFrVm5YlXvmrHrW79W1XXVG9OqY4U+HrWciV6+ONcIWlAEBCwAAgBalTVXFzge9Z7+/vb5p67Y8sWxDnli+IU8sX5/ZyzZk9ooNqVu9KU9tasj981bn/nmrn/V7daytelbQGt6rQ0b07ugZW7CHCVgAAAC0Cu3aVGW/gV2y38Auz3p9S8P2PLliQ2Yv3/B04FqfJ5ZvyPxVm7J+y/Pfiti+TWWGP30L4vBeT1+11btDBnRtl8oKYQt2NQELAACAVq22ujJj+3XO2H6dn/V6/bbtmbdy046gtezpwLV8feau3JiNW7dn2sK1mbZw7bO+pqaqIsN67rhSa1jPDhnas32G9eyQvXq0T9s2lXvy24IWRcACAACA51FTVfm3WxH/TsP2xtSt3vR01NpxtdYTyzbkyRUbUr+t8Xk/FbFUSvp1bpthvTpk2NNRa2jP9hnes0N6es4W/FMCFgAAALwM1ZU7rrIa1rNDkr89PH57Y1MWPrUpjy/bkDkrdgStJ1dszJMrNmTNpoYsWrM5i9Zszu2Pr3jW79expmrnlVrPBK6hPTtkcPd2qaly1RYkAhYAAADsEpUVpQzu3j6Du7dP0vtZ/2z1xq07gtbyDZmzcmOeXL4jcNWt3pT19due93bEilIyqFu7DO3591dt7fjP3dq3cdUWrYqA1Qp873vfy1e/+tUsWbIkY8eOzcUXX5wJEyY873uvvPLKXHLJJZk6dWrq6+szduzYfP7zn89rXvOaPbwaAACg5ejWvk26te+Wg4d0e9br9du2p27VpmddrfXkio2Zs3xD1tdvy7xVmzJv1abc/Nizf78u7ap3Pltrrx7tM7RH+wzp0T5DunvWFi2TgNXCXX755fnYxz6W733veznyyCPzgx/8ICeffHJmzJiRQYMGPef9t99+e0466aR86UtfSpcuXfKzn/0sp5xySu67774ccMABBXwHAAAALVdNVWVG9O6YEb2f/ZytpqamrNhQnyeXPxO1NmTO04Fr0ZrNWbOpIVPmP5Up8596zu/Zr3Nthjwdtv7+r4Hd2qW6smJPfWuwSwlYLdzXv/71nHnmmTnrrLOSJBdffHFuuOGGXHLJJbnoooue8/6LL774Wb/+0pe+lKuvvjrXXHONgAUAALCHlEql9OpYm14da3P4sO7P+mebt27P3JU7Yta8lRszd+XGzHn672s3N2Tx2i1ZvHZL7n5y1bO+rrKilIFd2z4dtDpkrx7tdvy9Z/v07VSbigq3JFK+BKwWbOvWrZkyZUouuOCCZ70+ceLE3H333S/p92hsbMz69evTrVu3F3xPfX196uvrd/563bodn7bR0NCQhoaGV7B8z3hmWzlvpHVzRil3zijlzhmlOXBOeSWqSsmInm0zomfbJD2f9c+e2rQ181ZuytxVG3fcfrhyU+au2pT5qzZmc0PjzlsSb5n17AfJ11RVZHC3dhnSo12GdG+XId3bZ68e7dK/U5s0NZX/GS33fbx6AlYLtnLlymzfvj29ez/74YG9e/fO0qVLX9Lv8bWvfS0bN27Mqaee+oLvueiii3LhhRc+5/Ubb7wx7dq1e3mjCzBp0qSiJ8CLckYpd84o5c4ZpTlwTtnVapOMTjK6U5JOSdOQZO3WZMWWUlZsSZZv3vH3FVtKWbklqd/WmMeXb8jjyzc85/ca0L4ypVJ5n9FNmzYVPYHdTMBqBf7xkymamppe0qdVXHbZZfn85z+fq6++Or169XrB933605/O+eefv/PX69aty8CBAzNx4sR06tTplQ/fzRoaGjJp0qScdNJJqa6uLnoOPIczSrlzRil3zijNgXNKOdi2vTGL1m7JvJUbd16hNXfljqu2Fq3Zkk7VTWV/Rp+5E4iWS8BqwXr06JHKysrnXG21fPny51yV9Y8uv/zynHnmmfn973+fE0888UXfW1NTk5qamue8Xl1dXdY/4J7RXHbSejmjlDtnlHLnjNIcOKcUqbo6GV5bk+G9Oz/nn23YtCV//PMNZX9Gy3kbu4aPH2jB2rRpk/Hjxz/ncuRJkybliCOOeMGvu+yyy/K+970vv/nNb/L6179+d88EAACgTNVUV6ZTm6JXgCuwWrzzzz8/p59+eg466KAcfvjh+eEPf5i6urqcffbZSXbc/rdo0aL84he/SLIjXp1xxhn55je/mcMOO2zn1Vtt27ZN587PrfEAAAAAu5uA1cKddtppWbVqVb7whS9kyZIlGTduXK677roMHjw4SbJkyZLU1dXtfP8PfvCDbNu2LR/+8Ifz4Q9/eOfr733ve3PppZfu6fkAAAAAAlZrcM455+Scc8553n/2j1Hq1ltv3f2DAAAAAF4Gz8ACAAAAoKwJWAAAAACUNQELAAAAgLImYAEAAABQ1gQsAAAAAMqagAUAAABAWROwAAAAAChrAhYAAAAAZU3AAgAAAKCsCVgAAAAAlDUBCwAAAICyJmABAAAAUNYELAAAAADKmoAFAAAAQFkTsAAAAAAoawIWAAAAAGVNwAIAAACgrAlYAAAAAJQ1AQsAAACAsiZgAQAAAFDWBCwAAAAAylpV0QNoeZqampIk69atK3jJi2toaMimTZuybt26VFdXFz0HnsMZpdw5o5Q7Z5TmwDml3DWXM/rMv38+8++jtDwCFrvc+vXrkyQDBw4seAkAAACtyfr169O5c+eiZ7AblJrkSXaxxsbGLF68OB07dkypVCp6zgtat25dBg4cmAULFqRTp05Fz4HncEYpd84o5c4ZpTlwTil3zeWMNjU1Zf369enXr18qKjwtqSVyBRa7XEVFRQYMGFD0jJesU6dOZf2DGJxRyp0zSrlzRmkOnFPKXXM4o668atlkSQAAAADKmoAFAAAAQFkTsGi1ampq8l//9V+pqakpego8L2eU/9/e/YVWXfdxAP/MtqnYPCim2xjE+k85B83SSWVoSdL6Qzf9GSJ0Zag46qY/F3oRTLoQCvtDFFFX6yIX3SQu0pk0S9eGSysETSv8U6HLLDXt+1w8dHjOM58/PTx5vnOvF/xg5/v97PD7wZszzvucnZM7GSV3MspoIKfkTkbJhQ9xBwAAACBr3oEFAAAAQNYUWAAAAABkTYEFAAAAQNYUWAAAAABkTYHFmPXSSy9FY2NjTJgwIVpaWuKjjz4q9ylxEdq6dWvcc889UV9fHxUVFfHuu++W7KeUYs2aNVFfXx8TJ06M22+/PXbv3l0yc/r06Vi5cmVMmzYtJk2aFPfee298++23JTPHjh2LJUuWRKFQiEKhEEuWLInjx4//xVfHxaCzszNuuummqKmpienTp8f9998fX331VcmMnFJOL7/8csyaNSsmT54ckydPjtbW1nj//feL+/JJbjo7O6OioiI6OjqKa3JKOa1ZsyYqKipKjtra2uK+fDJaKLAYk95+++3o6OiIZ555JgYGBuLWW2+NxYsXx8GDB8t9alxkTp48Gc3NzbF+/frz7j/33HOxbt26WL9+fezYsSNqa2vjzjvvjBMnThRnOjo6oru7O7q6umLbtm3x888/R1tbW5w7d64488gjj8Tg4GBs3LgxNm7cGIODg7FkyZK//PoY/Xp7e2P58uWxffv26OnpibNnz8aiRYvi5MmTxRk5pZwaGhpi7dq1sXPnzti5c2csWLAg7rvvvuKTK/kkJzt27IhXX301Zs2aVbIup5TbDTfcEIcOHSoeQ0NDxT35ZNRIMAbdfPPNadmyZSVr1113XXryySfLdEaMBRGRuru7i7d///33VFtbm9auXVtcO3XqVCoUCumVV15JKaV0/PjxVFVVlbq6uooz3333XRo3blzauHFjSimlPXv2pIhI27dvL8709fWliEhffvnlX3xVXGyOHj2aIiL19vamlOSUPE2ZMiW99tpr8klWTpw4ka6++urU09OT5s+fn1atWpVS8jhK+a1evTo1Nzefd08+GU28A4sx58yZM9Hf3x+LFi0qWV+0aFF8/PHHZTorxqL9+/fH4cOHS7I4fvz4mD9/fjGL/f398dtvv5XM1NfXx8yZM4szfX19USgUYs6cOcWZuXPnRqFQkGn+tOHh4YiImDp1akTIKXk5d+5cdHV1xcmTJ6O1tVU+ycry5cvj7rvvjjvuuKNkXU7Jwd69e6O+vj4aGxvjoYcein379kWEfDK6VJb7BOBC++GHH+LcuXMxY8aMkvUZM2bE4cOHy3RWjEV/5O18WTxw4EBxprq6OqZMmTJi5o/fP3z4cEyfPn3E/U+fPl2m+VNSSvH444/HLbfcEjNnzowIOSUPQ0ND0draGqdOnYpLL700uru74/rrry8+KZJPyq2rqyv6+/tj586dI/Y8jlJuc+bMibfeeiuuueaaOHLkSDz77LMxb9682L17t3wyqiiwGLMqKipKbqeURqzBhfC/ZPGfZ843L9P8WStWrIhdu3bFtm3bRuzJKeV07bXXxuDgYBw/fjzeeeedWLp0afT29hb35ZNy+uabb2LVqlWxadOmmDBhwr+ck1PKZfHixcWfm5qaorW1Na688sp48803Y+7cuREhn4wO/oWQMWfatGlxySWXjHgl4OjRoyNeeYC/0h/f/vLvslhbWxtnzpyJY8eO/duZI0eOjLj/77//Xqb5r61cuTLee++92Lx5czQ0NBTX5ZQcVFdXx1VXXRWzZ8+Ozs7OaG5ujueff14+yUJ/f38cPXo0WlpaorKyMiorK6O3tzdeeOGFqKysLGZITsnFpEmToqmpKfbu3etxlFFFgcWYU11dHS0tLdHT01Oy3tPTE/PmzSvTWTEWNTY2Rm1tbUkWz5w5E729vcUstrS0RFVVVcnMoUOH4vPPPy/OtLa2xvDwcHz66afFmU8++SSGh4dlmv8opRQrVqyIDRs2xIcffhiNjY0l+3JKjlJKcfr0afkkCwsXLoyhoaEYHBwsHrNnz4729vYYHByMK664Qk7JyunTp+OLL76Iuro6j6OMLhf4Q+MhC11dXamqqiq9/vrrac+ePamjoyNNmjQpff311+U+NS4yJ06cSAMDA2lgYCBFRFq3bl0aGBhIBw4cSCmltHbt2lQoFNKGDRvS0NBQevjhh1NdXV366aefivexbNmy1NDQkD744IP02WefpQULFqTm5uZ09uzZ4sxdd92VZs2alfr6+lJfX19qampKbW1tF/x6GX0ee+yxVCgU0pYtW9KhQ4eKxy+//FKckVPK6amnnkpbt25N+/fvT7t27UpPP/10GjduXNq0aVNKST7J0z9+C2FKckp5PfHEE2nLli1p3759afv27amtrS3V1NQUn/vIJ6OFAosx68UXX0yXX355qq6uTjfeeGPxK+Ph/2nz5s0pIkYcS5cuTSn9/auLV69enWpra9P48ePTbbfdloaGhkru49dff00rVqxIU6dOTRMnTkxtbW3p4MGDJTM//vhjam9vTzU1Nammpia1t7enY8eOXaCrZDQ7Xz4jIr3xxhvFGTmlnB599NHi3+vLLrssLVy4sFhepSSf5OmfCyw5pZwefPDBVFdXl6qqqlJ9fX164IEH0u7du4v78sloUZFSSuV57xcAAAAA/Gc+AwsAAACArCmwAAAAAMiaAgsAAACArCmwAAAAAMiaAgsAAACArCmwAAAAAMiaAgsAAACArCmwAAAAAMiaAgsAAACArCmwAAAAAMiaAgsAAACArCmwAAAAAMiaAgsAAACArCmwAAAAAMiaAgsAAACArCmwAAAAAMiaAgsAAACArCmwAAAAAMiaAgsAAACArCmwAAAAAMiaAgsAAACArCmwAAAAAMiaAgsAAACArCmwAAAAAMiaAgsAAACArCmwAAAAAMiaAgsAAACArCmwAAAAAMiaAgsAAACArCmwAAAAAMiaAgsAAACArCmwAAAAAMiaAgsAAACArCmwAAAAAMiaAgsAAACArCmwAAAAAMiaAgsAAACArCmwAAAAAMiaAgsAAACArCmwAAAAAMiaAgsAAACArCmwAAAAAMiaAgsAAACArCmwAAAAAMiaAgsAAACArCmwAAAAAMiaAgsAAACArCmwAAAAAMiaAgsAAACArCmwAAAAAMiaAgsAAACArCmwAAAAAMiaAgsAAACArCmwAAAAAMiaAgsAAACArCmwAAAAAMiaAgsAAACArCmwAAAAAMiaAgsAAACArCmwAAAAAMiaAgsAAACArCmwAAAAAMiaAgsAAACArCmwAAAAAMiaAgsAAACArCmwAAAAAMja3wBa0OlRIKMD8gAAAABJRU5ErkJggg==' width=1200.0/>\n",
       "            </div>\n",
       "        "
      ],
      "text/plain": [
       "Canvas(toolbar=Toolbar(toolitems=[('Home', 'Reset original view', 'home', 'home'), ('Back', 'Back to previous …"
      ]
     },
     "metadata": {},
     "output_type": "display_data"
    }
   ],
   "source": [
    "epochs = np.arange(1, epochs + 1)\n",
    "plt.figure(figsize=(12, 8))\n",
    "plt.plot(epochs, error_set)\n",
    "plt.grid()\n",
    "plt.show()"
   ]
  },
  {
   "cell_type": "code",
   "execution_count": 16,
   "id": "7e3b5287-d95e-4672-8688-ed78cdd7e8d3",
   "metadata": {},
   "outputs": [
    {
     "name": "stdout",
     "output_type": "stream",
     "text": [
      "y hat :  0.893945651099504\n",
      "error :  0.10605434890049603\n"
     ]
    }
   ],
   "source": [
    "X = np.array([[1, 1, 1]])\n",
    "pre_result = np.dot(X, w) + b\n",
    "y_hat = fun.sigm(pre_result).squeeze()\n",
    "print(\"y hat : \", y_hat)\n",
    "error = np.abs(1 - y_hat)\n",
    "print(\"error : \", error)"
   ]
  },
  {
   "cell_type": "code",
   "execution_count": null,
   "id": "19804e47-a665-4b9e-bbcd-034dd82761f6",
   "metadata": {},
   "outputs": [],
   "source": []
  }
 ],
 "metadata": {
  "kernelspec": {
   "display_name": "Python 3 (ipykernel)",
   "language": "python",
   "name": "python3"
  },
  "language_info": {
   "codemirror_mode": {
    "name": "ipython",
    "version": 3
   },
   "file_extension": ".py",
   "mimetype": "text/x-python",
   "name": "python",
   "nbconvert_exporter": "python",
   "pygments_lexer": "ipython3",
   "version": "3.8.12"
  }
 },
 "nbformat": 4,
 "nbformat_minor": 5
}
