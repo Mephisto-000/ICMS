{
 "cells": [
  {
   "cell_type": "markdown",
   "id": "a3411229-e28c-424e-a15c-7a0e17bdf599",
   "metadata": {},
   "source": [
    "# Hw 10/13"
   ]
  },
  {
   "cell_type": "markdown",
   "id": "b0ffde80-20b6-4529-8979-c1594dfd9160",
   "metadata": {},
   "source": [
    "## ex1 : Def fun(z) and dfun(z)"
   ]
  },
  {
   "cell_type": "code",
   "execution_count": 1,
   "id": "99bdb32e-3811-4a4a-92c4-8222a02dd094",
   "metadata": {},
   "outputs": [],
   "source": [
    "import numpy as np\n",
    "import matplotlib.pyplot as plt\n",
    "import Ex3_fun as fun"
   ]
  },
  {
   "cell_type": "code",
   "execution_count": 2,
   "id": "58352e91-3e5b-4c69-b024-6b0fcf6b4f78",
   "metadata": {},
   "outputs": [],
   "source": [
    "z = np.linspace(1, 5, 5)"
   ]
  },
  {
   "cell_type": "code",
   "execution_count": 3,
   "id": "6d253d2e-b068-4afc-8789-fd39ad488cac",
   "metadata": {},
   "outputs": [
    {
     "name": "stdout",
     "output_type": "stream",
     "text": [
      "f is sigmoid : \n",
      "f(1.0) = 0.7310585786300049\n",
      "f(2.0) = 0.8807970779778823\n",
      "f(3.0) = 0.9525741268224334\n",
      "f(4.0) = 0.9820137900379085\n",
      "f(5.0) = 0.9933071490757153\n",
      "\n",
      "\n",
      "df(1.0) = 0.19661193324148185\n",
      "df(2.0) = 0.10499358540350662\n",
      "df(3.0) = 0.045176659730912\n",
      "df(4.0) = 0.017662706213291107\n",
      "df(5.0) = 0.006648056670790033\n"
     ]
    }
   ],
   "source": [
    "print(\"f is sigmoid : \")\n",
    "\n",
    "for i in z:\n",
    "    tmp = fun.sigm(i)\n",
    "    print(f\"f({i}) = {tmp}\")\n",
    "print(\"\\n\")\n",
    "for i in z:\n",
    "    tmp = fun.sigm_deriv(i)\n",
    "    print(f\"df({i}) = {tmp}\")"
   ]
  },
  {
   "cell_type": "code",
   "execution_count": 4,
   "id": "06ce4c0a-5f5d-4f0b-851a-ec7fcc368025",
   "metadata": {},
   "outputs": [
    {
     "name": "stdout",
     "output_type": "stream",
     "text": [
      "f is tanh : \n",
      "f(1.0) = 0.7615941559557649\n",
      "f(2.0) = 0.9640275800758169\n",
      "f(3.0) = 0.9950547536867305\n",
      "f(4.0) = 0.999329299739067\n",
      "f(5.0) = 0.9999092042625951\n",
      "\n",
      "\n",
      "df(1.0) = -1.42551882081476\n",
      "df(2.0) = -3.7743992040419174\n",
      "df(3.0) = 0.979680483057573\n",
      "df(4.0) = -0.3405501218616205\n",
      "df(5.0) = -10.427881707458354\n"
     ]
    }
   ],
   "source": [
    "print(\"f is tanh : \")\n",
    "\n",
    "for i in z:\n",
    "    tmp = fun.tanh(i)\n",
    "    print(f\"f({i}) = {tmp}\")\n",
    "print(\"\\n\")\n",
    "for i in z:\n",
    "    tmp = fun.tanh_deriv(i)\n",
    "    print(f\"df({i}) = {tmp}\")"
   ]
  },
  {
   "cell_type": "code",
   "execution_count": 5,
   "id": "50cd36b3-12e0-47c5-a0c5-ef92de8e200b",
   "metadata": {},
   "outputs": [
    {
     "name": "stdout",
     "output_type": "stream",
     "text": [
      "f is ReLu : \n",
      "f(1.0) = 1.0\n",
      "f(2.0) = 2.0\n",
      "f(3.0) = 3.0\n",
      "f(4.0) = 4.0\n",
      "f(5.0) = 5.0\n",
      "\n",
      "\n",
      "df(1.0) = 1\n",
      "df(2.0) = 1\n",
      "df(3.0) = 1\n",
      "df(4.0) = 1\n",
      "df(5.0) = 1\n"
     ]
    }
   ],
   "source": [
    "print(\"f is ReLu : \")\n",
    "\n",
    "for i in z:\n",
    "    tmp = fun.relu(i)\n",
    "    print(f\"f({i}) = {tmp}\")\n",
    "print(\"\\n\")\n",
    "for i in z:\n",
    "    tmp = fun.relu_deriv(i)\n",
    "    print(f\"df({i}) = {tmp}\")"
   ]
  },
  {
   "cell_type": "markdown",
   "id": "b8c9add8-b332-444a-b254-018a49969ff4",
   "metadata": {},
   "source": [
    "## ex2 : A Tiny Toy Network"
   ]
  },
  {
   "cell_type": "markdown",
   "id": "17a7037e-540d-443e-b140-1d70975f8fea",
   "metadata": {},
   "source": [
    "### Step 0 :"
   ]
  },
  {
   "cell_type": "code",
   "execution_count": 6,
   "id": "a36c6f9e-a730-4c64-b4b8-f26e02544c41",
   "metadata": {},
   "outputs": [],
   "source": [
    "x = np.array([[0, 0, 1], \n",
    "             [1, 1, 1], \n",
    "             [1, 0, 1], \n",
    "             [0, 1, 1]])\n",
    "\n",
    "y = np.array([[0, 1, 1, 0]]).T"
   ]
  },
  {
   "cell_type": "markdown",
   "id": "7089b3ea-2b39-4a29-980e-a362485bf112",
   "metadata": {},
   "source": [
    "### Step 1 & 2  : "
   ]
  },
  {
   "cell_type": "code",
   "execution_count": 7,
   "id": "a6c5698e-7906-4d59-bfe3-d8c3ab9c61d6",
   "metadata": {},
   "outputs": [],
   "source": [
    "w = (2*np.random.random((3, 1)) - 1)*0.25\n",
    "b = (2*np.random.random((1)) - 1)*0.25"
   ]
  },
  {
   "cell_type": "code",
   "execution_count": 8,
   "id": "b747f4f3-50f0-44ff-bf55-efb376096bdd",
   "metadata": {},
   "outputs": [],
   "source": [
    "# Use sigmoid : \n",
    "x1_sigm = fun.sigm(np.dot(x, w))\n",
    "\n",
    "# Use tanh : \n",
    "x1_tanh = fun.tanh(np.dot(x, w))\n",
    "\n",
    "# Use ReLu : \n",
    "x1_relu = fun.relu(np.dot(x, w))"
   ]
  },
  {
   "cell_type": "code",
   "execution_count": 9,
   "id": "10842e6d-a417-43d0-bae2-763b1cb6349c",
   "metadata": {},
   "outputs": [
    {
     "name": "stdout",
     "output_type": "stream",
     "text": [
      "error, using sigm :  0.973603781705927\n",
      "error, using tanh :  1.2023397211727629\n",
      "error, using relu :  1.197836133642774\n"
     ]
    }
   ],
   "source": [
    "# calculate the error : \n",
    "\n",
    "err_sigm = np.sqrt(np.dot((y - x1_sigm).T, y - x1_sigm))\n",
    "\n",
    "err_tanh = np.sqrt(np.dot((y - x1_tanh).T, y - x1_tanh))\n",
    "\n",
    "err_relu = np.sqrt(np.dot((y - x1_relu).T, y - x1_relu))\n",
    "\n",
    "print(\"error, using sigm : \", err_sigm.squeeze())\n",
    "print(\"error, using tanh : \", err_tanh.squeeze())\n",
    "print(\"error, using relu : \", err_relu.squeeze())"
   ]
  },
  {
   "cell_type": "markdown",
   "id": "89009d93-ba96-4663-9668-e5a3d7ed6301",
   "metadata": {},
   "source": [
    "### Step 3 : Each epoch"
   ]
  },
  {
   "cell_type": "code",
   "execution_count": 10,
   "id": "d10c1afb-f29a-4fa6-b8ba-a1a889ca341c",
   "metadata": {},
   "outputs": [],
   "source": [
    "epochs = 1000\n",
    "eta = 0.01\n",
    "x0 = x"
   ]
  },
  {
   "cell_type": "code",
   "execution_count": 11,
   "id": "1f135329-026b-4604-be80-0dee42fe70ee",
   "metadata": {},
   "outputs": [],
   "source": [
    "for k in range(epochs):\n",
    "    X1 = fun.sigm(np.dot(x, w) + b)\n",
    "    X1_err = X1 - y\n",
    "    X1_delta = X1_err * fun.sigm_deriv(X1)\n",
    "    \n",
    "    w = w - eta * np.dot(x0.T, X1_delta)\n",
    "    c = np.ones(len(X1_delta))\n",
    "    b = b - eta * np.dot(c, X1_delta)"
   ]
  },
  {
   "cell_type": "code",
   "execution_count": 12,
   "id": "8fd54c29-8095-415b-b5c5-0153b4978aba",
   "metadata": {},
   "outputs": [
    {
     "name": "stdout",
     "output_type": "stream",
     "text": [
      "After training, Error =  0.605161547356599\n"
     ]
    }
   ],
   "source": [
    "X1 = fun.sigm(np.dot(x, w) + b)\n",
    "error2 = np.sqrt(np.dot((y - X1).T, y - X1))\n",
    "print(\"After training, Error = \", error2.squeeze())"
   ]
  },
  {
   "cell_type": "code",
   "execution_count": 13,
   "id": "f088ea56-9e38-4660-a49c-587d2e703e0e",
   "metadata": {},
   "outputs": [
    {
     "name": "stdout",
     "output_type": "stream",
     "text": [
      "weight : \n",
      " [[ 1.70406863]\n",
      " [-0.29019455]\n",
      " [-0.22220747]]\n",
      "\n",
      "\n",
      "bias :  [-0.38377344]\n"
     ]
    }
   ],
   "source": [
    "print(\"weight : \\n\", w)\n",
    "print(\"\\n\")\n",
    "print(\"bias : \", b)"
   ]
  },
  {
   "cell_type": "code",
   "execution_count": 14,
   "id": "488aad6e-8479-4147-8a24-9a94e0ef66ad",
   "metadata": {},
   "outputs": [
    {
     "name": "stdout",
     "output_type": "stream",
     "text": [
      "Result :  0.3529765528918416\n",
      "y0 :  0\n"
     ]
    }
   ],
   "source": [
    "pre_x = np.array([[0, 0, 1]])\n",
    "pre_result = np.dot(pre_x, w) + b\n",
    "\n",
    "\n",
    "print(\"Result : \", fun.sigm(pre_result).squeeze())\n",
    "print(\"y0 : \", 0)"
   ]
  },
  {
   "cell_type": "code",
   "execution_count": null,
   "id": "c38c4d5c-6db0-4831-bc91-f007c235c9c9",
   "metadata": {},
   "outputs": [],
   "source": []
  }
 ],
 "metadata": {
  "kernelspec": {
   "display_name": "Python 3 (ipykernel)",
   "language": "python",
   "name": "python3"
  },
  "language_info": {
   "codemirror_mode": {
    "name": "ipython",
    "version": 3
   },
   "file_extension": ".py",
   "mimetype": "text/x-python",
   "name": "python",
   "nbconvert_exporter": "python",
   "pygments_lexer": "ipython3",
   "version": "3.8.11"
  }
 },
 "nbformat": 4,
 "nbformat_minor": 5
}
