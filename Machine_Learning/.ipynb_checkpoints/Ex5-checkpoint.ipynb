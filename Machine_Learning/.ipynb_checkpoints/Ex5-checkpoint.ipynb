{
 "cells": [
  {
   "cell_type": "markdown",
   "id": "9d175312-dc99-4fb2-80c6-897f0d3490e9",
   "metadata": {},
   "source": [
    "# 10/27"
   ]
  },
  {
   "cell_type": "code",
   "execution_count": 1,
   "id": "a73372d6-e0b0-4e16-9f99-d7d4f034c6e9",
   "metadata": {},
   "outputs": [],
   "source": [
    "import tensorflow as tf"
   ]
  },
  {
   "cell_type": "markdown",
   "id": "923fc874-4274-401f-b0a1-ee5c614ea778",
   "metadata": {},
   "source": [
    "## Calculate pvalute = c1*a + c2*b"
   ]
  },
  {
   "cell_type": "code",
   "execution_count": 2,
   "id": "dee96d36-775a-4ce3-a08d-289f4c1aa7ee",
   "metadata": {},
   "outputs": [
    {
     "name": "stdout",
     "output_type": "stream",
     "text": [
      "a :  tf.Tensor([3.], shape=(1,), dtype=float32)\n",
      "b :  tf.Tensor([4.5], shape=(1,), dtype=float32)\n"
     ]
    }
   ],
   "source": [
    "a = tf.constant([3.0])\n",
    "b = tf.constant([4.5])\n",
    "print(\"a : \", a)\n",
    "print(\"b : \", b)"
   ]
  },
  {
   "cell_type": "code",
   "execution_count": 3,
   "id": "0f0efc7d-2955-46b3-8c47-e5497f4382f0",
   "metadata": {},
   "outputs": [
    {
     "name": "stdout",
     "output_type": "stream",
     "text": [
      "c1 :  <tf.Variable 'Variable:0' shape=() dtype=float32, numpy=5.0>\n",
      "c2 :  <tf.Variable 'Variable:0' shape=() dtype=float32, numpy=10.0>\n"
     ]
    }
   ],
   "source": [
    "c1 = tf.Variable(5.0)\n",
    "c2 = tf.Variable(10.0)\n",
    "print(\"c1 : \", c1)\n",
    "print(\"c2 : \", c2)"
   ]
  },
  {
   "cell_type": "code",
   "execution_count": 4,
   "id": "e78b5b4e-69a3-4a2b-8cf1-b6cd04683a10",
   "metadata": {},
   "outputs": [
    {
     "name": "stdout",
     "output_type": "stream",
     "text": [
      "result1 :  tf.Tensor([60.], shape=(1,), dtype=float32)\n"
     ]
    }
   ],
   "source": [
    "result1 = a*c1 + b*c2\n",
    "print(\"result1 : \", result1)"
   ]
  },
  {
   "cell_type": "code",
   "execution_count": 5,
   "id": "aef0353b-484b-4545-b2a7-2687db3fbe11",
   "metadata": {},
   "outputs": [
    {
     "name": "stdout",
     "output_type": "stream",
     "text": [
      "a :  tf.Tensor([1. 2. 3.], shape=(3,), dtype=float32)\n",
      "b :  tf.Tensor([4. 5. 6.], shape=(3,), dtype=float32)\n"
     ]
    }
   ],
   "source": [
    "a = tf.constant([1.0, 2.0, 3.0])\n",
    "b = tf.constant([4.0, 5.0, 6.0])\n",
    "print(\"a : \", a)\n",
    "print(\"b : \", b)"
   ]
  },
  {
   "cell_type": "code",
   "execution_count": 6,
   "id": "f79f814e-323a-4a20-ad69-613951c40e2b",
   "metadata": {},
   "outputs": [
    {
     "name": "stdout",
     "output_type": "stream",
     "text": [
      "c1 :  <tf.Variable 'Variable:0' shape=() dtype=float32, numpy=5.0>\n",
      "c2 :  <tf.Variable 'Variable:0' shape=() dtype=float32, numpy=10.0>\n"
     ]
    }
   ],
   "source": [
    "c1 = tf.Variable(5.0)\n",
    "c2 = tf.Variable(10.0)\n",
    "print(\"c1 : \", c1)\n",
    "print(\"c2 : \", c2)"
   ]
  },
  {
   "cell_type": "code",
   "execution_count": 7,
   "id": "ac4156e0-fe4e-4657-9d3c-8dc8979bdb20",
   "metadata": {},
   "outputs": [
    {
     "name": "stdout",
     "output_type": "stream",
     "text": [
      "result2 :  tf.Tensor([45. 60. 75.], shape=(3,), dtype=float32)\n"
     ]
    }
   ],
   "source": [
    "result2 = a*c1 + b*c2\n",
    "print(\"result2 : \", result2)"
   ]
  },
  {
   "cell_type": "markdown",
   "id": "f17f5684-c2bc-4fc5-9e05-c032e6397896",
   "metadata": {},
   "source": [
    "## Using \"Tensorflow\""
   ]
  },
  {
   "cell_type": "code",
   "execution_count": 8,
   "id": "8cfcd844-3cc6-4f69-b24f-1bf6a7631280",
   "metadata": {},
   "outputs": [
    {
     "name": "stdout",
     "output_type": "stream",
     "text": [
      "tanh([-2.0, 0.0, 1.0]) : \n",
      " tf.Tensor([-0.9640276  0.         0.7615942], shape=(3,), dtype=float32)\n"
     ]
    }
   ],
   "source": [
    "r1 = tf.tanh([-2.0, 0.0, 1.0])\n",
    "print(\"tanh([-2.0, 0.0, 1.0]) : \\n\", r1)"
   ]
  },
  {
   "cell_type": "code",
   "execution_count": 9,
   "id": "5a24a9d8-c149-4640-afa7-3b00e8e08b2d",
   "metadata": {},
   "outputs": [
    {
     "name": "stdout",
     "output_type": "stream",
     "text": [
      "f1([-1.0, 0.0, 2.0, 3.0]) : \n",
      " tf.Tensor([0.26894143 0.5        0.8807971  0.95257413], shape=(4,), dtype=float32)\n"
     ]
    }
   ],
   "source": [
    "r2 = tf.sigmoid([-1.0, 0.0, 2.0, 3.0])\n",
    "print(\"f1([-1.0, 0.0, 2.0, 3.0]) : \\n\", r2)"
   ]
  },
  {
   "cell_type": "code",
   "execution_count": 10,
   "id": "3a97171b-35f6-4776-b18d-ee14abc0961b",
   "metadata": {},
   "outputs": [
    {
     "name": "stdout",
     "output_type": "stream",
     "text": [
      "f2([-5.0, 0.0, 3.0]) : \n",
      " tf.Tensor([0. 0. 3.], shape=(3,), dtype=float32)\n"
     ]
    }
   ],
   "source": [
    "r3 = tf.nn.relu([-5.0, 0.0, 3.0])\n",
    "print(\"f2([-5.0, 0.0, 3.0]) : \\n\", r3)"
   ]
  },
  {
   "cell_type": "code",
   "execution_count": null,
   "id": "63d3987f-7bf3-4b33-99a4-aa6d6fdc3ffc",
   "metadata": {},
   "outputs": [],
   "source": []
  },
  {
   "cell_type": "code",
   "execution_count": null,
   "id": "9e69c876-0d12-4b5c-b011-caa69df0ea97",
   "metadata": {},
   "outputs": [],
   "source": []
  },
  {
   "cell_type": "code",
   "execution_count": null,
   "id": "b4b35c75-8d9a-4588-9a6a-419cd821d6cc",
   "metadata": {},
   "outputs": [],
   "source": []
  }
 ],
 "metadata": {
  "kernelspec": {
   "display_name": "Python 3 (ipykernel)",
   "language": "python",
   "name": "python3"
  },
  "language_info": {
   "codemirror_mode": {
    "name": "ipython",
    "version": 3
   },
   "file_extension": ".py",
   "mimetype": "text/x-python",
   "name": "python",
   "nbconvert_exporter": "python",
   "pygments_lexer": "ipython3",
   "version": "3.8.12"
  }
 },
 "nbformat": 4,
 "nbformat_minor": 5
}
