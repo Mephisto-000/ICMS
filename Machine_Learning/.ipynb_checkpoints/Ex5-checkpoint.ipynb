{
 "cells": [
  {
   "cell_type": "markdown",
   "id": "9d175312-dc99-4fb2-80c6-897f0d3490e9",
   "metadata": {},
   "source": [
    "# 10/27"
   ]
  },
  {
   "cell_type": "markdown",
   "id": "923fc874-4274-401f-b0a1-ee5c614ea778",
   "metadata": {},
   "source": [
    "## Calculate pvalute = c1*a + c2*b"
   ]
  },
  {
   "cell_type": "code",
   "execution_count": null,
   "id": "dee96d36-775a-4ce3-a08d-289f4c1aa7ee",
   "metadata": {},
   "outputs": [],
   "source": []
  },
  {
   "cell_type": "code",
   "execution_count": null,
   "id": "0f0efc7d-2955-46b3-8c47-e5497f4382f0",
   "metadata": {},
   "outputs": [],
   "source": []
  },
  {
   "cell_type": "code",
   "execution_count": null,
   "id": "e78b5b4e-69a3-4a2b-8cf1-b6cd04683a10",
   "metadata": {},
   "outputs": [],
   "source": []
  },
  {
   "cell_type": "code",
   "execution_count": null,
   "id": "aef0353b-484b-4545-b2a7-2687db3fbe11",
   "metadata": {},
   "outputs": [],
   "source": []
  },
  {
   "cell_type": "code",
   "execution_count": null,
   "id": "f79f814e-323a-4a20-ad69-613951c40e2b",
   "metadata": {},
   "outputs": [],
   "source": []
  },
  {
   "cell_type": "code",
   "execution_count": null,
   "id": "ac4156e0-fe4e-4657-9d3c-8dc8979bdb20",
   "metadata": {},
   "outputs": [],
   "source": []
  },
  {
   "cell_type": "code",
   "execution_count": null,
   "id": "c555a728-5f36-4b34-8c18-64e74a9e7185",
   "metadata": {},
   "outputs": [],
   "source": []
  }
 ],
 "metadata": {
  "kernelspec": {
   "display_name": "Python 3 (ipykernel)",
   "language": "python",
   "name": "python3"
  },
  "language_info": {
   "codemirror_mode": {
    "name": "ipython",
    "version": 3
   },
   "file_extension": ".py",
   "mimetype": "text/x-python",
   "name": "python",
   "nbconvert_exporter": "python",
   "pygments_lexer": "ipython3",
   "version": "3.8.12"
  }
 },
 "nbformat": 4,
 "nbformat_minor": 5
}
