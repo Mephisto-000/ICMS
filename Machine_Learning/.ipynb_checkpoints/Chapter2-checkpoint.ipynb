{
 "cells": [
  {
   "cell_type": "markdown",
   "id": "318f7746-4987-4f56-91eb-74aa1258ecc5",
   "metadata": {},
   "source": [
    "# Machine Learning Fundamentals"
   ]
  },
  {
   "cell_type": "markdown",
   "id": "81dce9c7-b678-46f5-ab5b-fcab907f1e89",
   "metadata": {},
   "source": [
    "Python library : "
   ]
  },
  {
   "cell_type": "code",
   "execution_count": 1,
   "id": "835de785-12ed-432a-adf3-34a10167fb03",
   "metadata": {},
   "outputs": [],
   "source": [
    "import numpy as np\n",
    "import matplotlib.pyplot as plt"
   ]
  },
  {
   "cell_type": "markdown",
   "id": "28f02b77-31ee-498f-abe6-f39c28258835",
   "metadata": {},
   "source": [
    "## Binary Classification"
   ]
  },
  {
   "cell_type": "markdown",
   "id": "392367f5-2fac-49ad-87fb-0e2d385d9520",
   "metadata": {},
   "source": [
    "Consider a domain where we have data of the form : $D = $ {$(x_1, y_1)$, $(x_2, y_2)$, ... $(x_n, y_n)$},  where $y_{i} = \\pm1$."
   ]
  },
  {
   "cell_type": "markdown",
   "id": "ca7bd975-8c0c-4b26-9bfb-a2a663937423",
   "metadata": {},
   "source": [
    "1. We do not have access to all such data but only a subset $S$ of $D$."
   ]
  },
  {
   "cell_type": "markdown",
   "id": "04eea990-a9d7-4921-9e03-5d9b223204ab",
   "metadata": {},
   "source": [
    "2. Using $S$, our task is to generate a computational procedure that implements the function $f:x\\to y$"
   ]
  },
  {
   "cell_type": "markdown",
   "id": "b709c741-aeba-4443-a692-380c29af5b63",
   "metadata": {},
   "source": [
    "3. Let $U = D\\setminus S$ be unseen data."
   ]
  },
  {
   "cell_type": "markdown",
   "id": "7d4a5820-9e16-4337-8f83-6e4fcf4d59be",
   "metadata": {},
   "source": [
    "### Error Estimate"
   ]
  },
  {
   "cell_type": "markdown",
   "id": "f99eedc6-bdba-49d3-8e9c-c2500e6d09b7",
   "metadata": {},
   "source": [
    "Error over unseen data $U$ : "
   ]
  },
  {
   "cell_type": "markdown",
   "id": "90495093-254c-476d-b33c-e1172d2e21a6",
   "metadata": {},
   "source": [
    "$$E(f, D, U) = \\frac{\\sum_{(x_i, y_i)\\in U}[f(x_i)\\ne y_i]}{|U|}$$"
   ]
  },
  {
   "cell_type": "markdown",
   "id": "3f8ae9d4-753e-46d9-88b2-3718a9cec8f8",
   "metadata": {},
   "source": [
    "$\\star$ We can measure how well the model is doing on unseen data whether they buy the products or not and evalute the error $E(f, D, U)$."
   ]
  },
  {
   "cell_type": "markdown",
   "id": "1293f6c6-81bc-4d2d-b08e-a6f5ba64e862",
   "metadata": {},
   "source": [
    "### Example : "
   ]
  },
  {
   "cell_type": "markdown",
   "id": "1bf1c85e-c384-49c9-8fbc-19ba40b8be06",
   "metadata": {},
   "source": [
    "範例原函數 : $y = 2x^{2} + x + 2$，使用常態分布(平均 : 0，變異數 : 0.2)產生 noise"
   ]
  },
  {
   "cell_type": "code",
   "execution_count": 2,
   "id": "aa6b8979-835c-445f-9d4b-126730cce56a",
   "metadata": {},
   "outputs": [],
   "source": [
    "# 建立一組 100 data :\n",
    "\n",
    "def f(x):\n",
    "    return 2*x**2 + x + 2\n",
    "\n",
    "noise = np.random.normal(0, 0.2, 100)\n",
    "x = np.linspace(-1, 1, 100)\n",
    "y = f(x) + noise"
   ]
  },
  {
   "cell_type": "markdown",
   "id": "0b837717-2c7d-4efe-acfb-b4543dbb7452",
   "metadata": {},
   "source": [
    "Plot : "
   ]
  },
  {
   "cell_type": "code",
   "execution_count": 3,
   "id": "77d40d01-dad2-47a2-9c37-1e62d37ec296",
   "metadata": {},
   "outputs": [
    {
     "data": {
      "image/png": "[encoded data removed]",
      "text/plain": [
       "<Figure size 864x576 with 1 Axes>"
      ]
     },
     "metadata": {
      "needs_background": "light"
     },
     "output_type": "display_data"
    }
   ],
   "source": [
    "plt.figure(figsize=(12, 8))\n",
    "plt.plot(x, f(x), 'b')\n",
    "plt.plot(x, y, 'g.', x, noise, 'r.')\n",
    "plt.xlabel(\"x\")\n",
    "plt.ylabel(\"y\")\n",
    "plt.grid()\n",
    "plt.show()"
   ]
  },
  {
   "cell_type": "markdown",
   "id": "2c434a6b-638f-44c4-880c-a42d7933b702",
   "metadata": {},
   "source": []
  },
  {
   "cell_type": "code",
   "execution_count": 4,
   "id": "c6e2fd89-b3ff-4c8d-9900-ca3550d13d3d",
   "metadata": {},
   "outputs": [
    {
     "name": "stdout",
     "output_type": "stream",
     "text": [
      "H(x) = \n",
      " [[ 1  1  1]\n",
      " [ 1  2  4]\n",
      " [ 1  3  9]\n",
      " [ 1  4 16]\n",
      " [ 1  5 25]\n",
      " [ 1  6 36]]\n",
      "\n",
      "\n",
      "H(Xtrain) = \n",
      " [[ 1.00000000e+00 -1.00000000e+00  1.00000000e+00]\n",
      " [ 1.00000000e+00 -9.79797980e-01  9.60004081e-01]\n",
      " [ 1.00000000e+00 -9.59595960e-01  9.20824406e-01]\n",
      " [ 1.00000000e+00 -9.39393939e-01  8.82460973e-01]\n",
      " [ 1.00000000e+00 -9.19191919e-01  8.44913784e-01]\n",
      " [ 1.00000000e+00 -8.98989899e-01  8.08182838e-01]\n",
      " [ 1.00000000e+00 -8.78787879e-01  7.72268136e-01]\n",
      " [ 1.00000000e+00 -8.58585859e-01  7.37169677e-01]\n",
      " [ 1.00000000e+00 -8.38383838e-01  7.02887460e-01]\n",
      " [ 1.00000000e+00 -8.18181818e-01  6.69421488e-01]\n",
      " [ 1.00000000e+00 -7.97979798e-01  6.36771758e-01]\n",
      " [ 1.00000000e+00 -7.77777778e-01  6.04938272e-01]\n",
      " [ 1.00000000e+00 -7.57575758e-01  5.73921028e-01]\n",
      " [ 1.00000000e+00 -7.37373737e-01  5.43720029e-01]\n",
      " [ 1.00000000e+00 -7.17171717e-01  5.14335272e-01]\n",
      " [ 1.00000000e+00 -6.96969697e-01  4.85766758e-01]\n",
      " [ 1.00000000e+00 -6.76767677e-01  4.58014488e-01]\n",
      " [ 1.00000000e+00 -6.56565657e-01  4.31078461e-01]\n",
      " [ 1.00000000e+00 -6.36363636e-01  4.04958678e-01]\n",
      " [ 1.00000000e+00 -6.16161616e-01  3.79655137e-01]\n",
      " [ 1.00000000e+00 -5.95959596e-01  3.55167840e-01]\n",
      " [ 1.00000000e+00 -5.75757576e-01  3.31496786e-01]\n",
      " [ 1.00000000e+00 -5.55555556e-01  3.08641975e-01]\n",
      " [ 1.00000000e+00 -5.35353535e-01  2.86603408e-01]\n",
      " [ 1.00000000e+00 -5.15151515e-01  2.65381084e-01]\n",
      " [ 1.00000000e+00 -4.94949495e-01  2.44975003e-01]\n",
      " [ 1.00000000e+00 -4.74747475e-01  2.25385165e-01]\n",
      " [ 1.00000000e+00 -4.54545455e-01  2.06611570e-01]\n",
      " [ 1.00000000e+00 -4.34343434e-01  1.88654219e-01]\n",
      " [ 1.00000000e+00 -4.14141414e-01  1.71513111e-01]\n",
      " [ 1.00000000e+00 -3.93939394e-01  1.55188246e-01]\n",
      " [ 1.00000000e+00 -3.73737374e-01  1.39679625e-01]\n",
      " [ 1.00000000e+00 -3.53535354e-01  1.24987246e-01]\n",
      " [ 1.00000000e+00 -3.33333333e-01  1.11111111e-01]\n",
      " [ 1.00000000e+00 -3.13131313e-01  9.80512193e-02]\n",
      " [ 1.00000000e+00 -2.92929293e-01  8.58075707e-02]\n",
      " [ 1.00000000e+00 -2.72727273e-01  7.43801653e-02]\n",
      " [ 1.00000000e+00 -2.52525253e-01  6.37690032e-02]\n",
      " [ 1.00000000e+00 -2.32323232e-01  5.39740843e-02]\n",
      " [ 1.00000000e+00 -2.12121212e-01  4.49954086e-02]\n",
      " [ 1.00000000e+00 -1.91919192e-01  3.68329762e-02]\n",
      " [ 1.00000000e+00 -1.71717172e-01  2.94867871e-02]\n",
      " [ 1.00000000e+00 -1.51515152e-01  2.29568411e-02]\n",
      " [ 1.00000000e+00 -1.31313131e-01  1.72431385e-02]\n",
      " [ 1.00000000e+00 -1.11111111e-01  1.23456790e-02]\n",
      " [ 1.00000000e+00 -9.09090909e-02  8.26446281e-03]\n",
      " [ 1.00000000e+00 -7.07070707e-02  4.99948985e-03]\n",
      " [ 1.00000000e+00 -5.05050505e-02  2.55076013e-03]\n",
      " [ 1.00000000e+00 -3.03030303e-02  9.18273646e-04]\n",
      " [ 1.00000000e+00 -1.01010101e-02  1.02030405e-04]\n",
      " [ 1.00000000e+00  1.01010101e-02  1.02030405e-04]\n",
      " [ 1.00000000e+00  3.03030303e-02  9.18273646e-04]\n",
      " [ 1.00000000e+00  5.05050505e-02  2.55076013e-03]\n",
      " [ 1.00000000e+00  7.07070707e-02  4.99948985e-03]\n",
      " [ 1.00000000e+00  9.09090909e-02  8.26446281e-03]\n",
      " [ 1.00000000e+00  1.11111111e-01  1.23456790e-02]\n",
      " [ 1.00000000e+00  1.31313131e-01  1.72431385e-02]\n",
      " [ 1.00000000e+00  1.51515152e-01  2.29568411e-02]\n",
      " [ 1.00000000e+00  1.71717172e-01  2.94867871e-02]\n",
      " [ 1.00000000e+00  1.91919192e-01  3.68329762e-02]\n",
      " [ 1.00000000e+00  2.12121212e-01  4.49954086e-02]\n",
      " [ 1.00000000e+00  2.32323232e-01  5.39740843e-02]\n",
      " [ 1.00000000e+00  2.52525253e-01  6.37690032e-02]\n",
      " [ 1.00000000e+00  2.72727273e-01  7.43801653e-02]\n",
      " [ 1.00000000e+00  2.92929293e-01  8.58075707e-02]\n",
      " [ 1.00000000e+00  3.13131313e-01  9.80512193e-02]\n",
      " [ 1.00000000e+00  3.33333333e-01  1.11111111e-01]\n",
      " [ 1.00000000e+00  3.53535354e-01  1.24987246e-01]\n",
      " [ 1.00000000e+00  3.73737374e-01  1.39679625e-01]\n",
      " [ 1.00000000e+00  3.93939394e-01  1.55188246e-01]\n",
      " [ 1.00000000e+00  4.14141414e-01  1.71513111e-01]\n",
      " [ 1.00000000e+00  4.34343434e-01  1.88654219e-01]\n",
      " [ 1.00000000e+00  4.54545455e-01  2.06611570e-01]\n",
      " [ 1.00000000e+00  4.74747475e-01  2.25385165e-01]\n",
      " [ 1.00000000e+00  4.94949495e-01  2.44975003e-01]\n",
      " [ 1.00000000e+00  5.15151515e-01  2.65381084e-01]\n",
      " [ 1.00000000e+00  5.35353535e-01  2.86603408e-01]\n",
      " [ 1.00000000e+00  5.55555556e-01  3.08641975e-01]\n",
      " [ 1.00000000e+00  5.75757576e-01  3.31496786e-01]\n",
      " [ 1.00000000e+00  5.95959596e-01  3.55167840e-01]]\n",
      "\n",
      "\n",
      "A = \n",
      " [[1.99924911]\n",
      " [0.95105966]\n",
      " [1.96362987]]\n"
     ]
    }
   ],
   "source": [
    "x = np.arange(1, 7).reshape(6, 1)\n",
    "H = np.hstack([np.power(x, i) for i in range(0, 3)])\n",
    "print(\"H(x) = \\n\", H)\n",
    "\n",
    "x = np.linspace(-1, 1, 100)\n",
    "fun_data = np.array([f(i) for i in x])\n",
    "noise = np.random.normal(0, 0.2, 100)\n",
    "y = fun_data + noise\n",
    "\n",
    "x_train = x[0:80].reshape(80, 1)\n",
    "y_train = y[0:80].reshape(80, 1)\n",
    "x_pre = x[80:]\n",
    "y_pre = y[80:]\n",
    "\n",
    "print(\"\\n\")\n",
    "H_xtrain = np.hstack([np.power(x_train, i) for i in range(0, 3)])\n",
    "print(\"H(Xtrain) = \\n\", H_xtrain)\n",
    "\n",
    "B = np.linalg.inv(np.dot(H_xtrain.T, H_xtrain))\n",
    "A = np.dot(np.dot(B, H_xtrain.T), y_train)\n",
    "print(\"\\n\")\n",
    "print(\"A = \\n\", A)"
   ]
  },
  {
   "cell_type": "code",
   "execution_count": null,
   "id": "2da83e6c-9362-44c9-bade-921f8aeb6f54",
   "metadata": {},
   "outputs": [],
   "source": []
  }
 ],
 "metadata": {
  "kernelspec": {
   "display_name": "Python 3 (ipykernel)",
   "language": "python",
   "name": "python3"
  },
  "language_info": {
   "codemirror_mode": {
    "name": "ipython",
    "version": 3
   },
   "file_extension": ".py",
   "mimetype": "text/x-python",
   "name": "python",
   "nbconvert_exporter": "python",
   "pygments_lexer": "ipython3",
   "version": "3.8.11"
  }
 },
 "nbformat": 4,
 "nbformat_minor": 5
}
